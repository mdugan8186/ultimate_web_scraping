{
 "cells":[
  {
   "cell_type":"markdown",
   "source":[
    "# Urllib"
   ],
   "attachments":{
    
   },
   "metadata":{
    "datalore":{
     "node_id":"UPjhtgRAtp7mvq6J0FjP3j",
     "type":"MD",
     "hide_input_from_viewers":false,
     "hide_output_from_viewers":false
    }
   }
  },
  {
   "cell_type":"code",
   "source":[
    "from urllib.request import urlopen"
   ],
   "execution_count":2,
   "outputs":[
    
   ],
   "metadata":{
    "datalore":{
     "node_id":"tt2fmCPKwNmnZwHSzGe6GF",
     "type":"CODE",
     "hide_input_from_viewers":false,
     "hide_output_from_viewers":false
    }
   }
  },
  {
   "cell_type":"code",
   "source":[
    "url = \"https:\/\/quotes.toscrape.com\/\""
   ],
   "execution_count":3,
   "outputs":[
    
   ],
   "metadata":{
    "datalore":{
     "node_id":"5whv8Ij1wfwtng8A2mpPTo",
     "type":"CODE",
     "hide_input_from_viewers":false,
     "hide_output_from_viewers":false
    }
   }
  },
  {
   "cell_type":"code",
   "source":[
    "resp = urlopen(url)"
   ],
   "execution_count":5,
   "outputs":[
    
   ],
   "metadata":{
    "datalore":{
     "node_id":"Pi2quc7qH3o2Ew0C55yiKx",
     "type":"CODE",
     "hide_input_from_viewers":false,
     "hide_output_from_viewers":false
    }
   }
  },
  {
   "cell_type":"code",
   "source":[
    "resp"
   ],
   "execution_count":6,
   "outputs":[
    {
     "data":{
      "text\/plain":[
       "<http.client.HTTPResponse at 0x7fafc7746fd0>"
      ]
     },
     "metadata":{
      
     },
     "output_type":"display_data"
    }
   ],
   "metadata":{
    "datalore":{
     "node_id":"UgONGoJA35CiXBKjnct0qs",
     "type":"CODE",
     "hide_input_from_viewers":false,
     "hide_output_from_viewers":false
    }
   }
  },
  {
   "cell_type":"code",
   "source":[
    "resp.status"
   ],
   "execution_count":7,
   "outputs":[
    {
     "data":{
      "text\/plain":[
       "200"
      ]
     },
     "metadata":{
      
     },
     "output_type":"display_data"
    }
   ],
   "metadata":{
    "datalore":{
     "node_id":"rbjdcGCgaDGMtSvqhw5YJa",
     "type":"CODE",
     "hide_input_from_viewers":false,
     "hide_output_from_viewers":false
    }
   }
  },
  {
   "cell_type":"code",
   "source":[
    "content = resp.read()"
   ],
   "execution_count":8,
   "outputs":[
    
   ],
   "metadata":{
    "datalore":{
     "node_id":"z42qjXxFeJXjMVly8tbNF0",
     "type":"CODE",
     "hide_input_from_viewers":false,
     "hide_output_from_viewers":false
    }
   }
  },
  {
   "cell_type":"code",
   "source":[
    "content"
   ],
   "execution_count":9,
   "outputs":[
    {
     "data":{
      "text\/plain":[
       "b'<!DOCTYPE html>\\n<html lang=\"en\">\\n<head>\\n\\t<meta charset=\"UTF-8\">\\n\\t<title>Quotes to Scrape<\/title>\\n    <link rel=\"stylesheet\" href=\"\/static\/bootstrap.min.css\">\\n    <link rel=\"stylesheet\" href=\"\/static\/main.css\">\\n<\/head>\\n<body>\\n    <div class=\"container\">\\n        <div class=\"row header-box\">\\n            <div class=\"col-md-8\">\\n                <h1>\\n                    <a href=\"\/\" style=\"text-decoration: none\">Quotes to Scrape<\/a>\\n                <\/h1>\\n            <\/div>\\n            <div class=\"col-md-4\">\\n                <p>\\n                \\n                    <a href=\"\/login\">Login<\/a>\\n                \\n                <\/p>\\n            <\/div>\\n        <\/div>\\n    \\n\\n<div class=\"row\">\\n    <div class=\"col-md-8\">\\n\\n    <div class=\"quote\" itemscope itemtype=\"http:\/\/schema.org\/CreativeWork\">\\n        <span class=\"text\" itemprop=\"text\">\\xe2\\x80\\x9cThe world as we have created it is a process of our thinking. It cannot be changed without changing our thinking.\\xe2\\x80\\x9d<\/span>\\n        <span>by <small class=\"author\" itemprop=\"author\">Albert Einstein<\/small>\\n        <a href=\"\/author\/Albert-Einstein\">(about)<\/a>\\n        <\/span>\\n        <div class=\"tags\">\\n            Tags:\\n            <meta class=\"keywords\" itemprop=\"keywords\" content=\"change,deep-thoughts,thinking,world\" \/    > \\n            \\n            <a class=\"tag\" href=\"\/tag\/change\/page\/1\/\">change<\/a>\\n            \\n            <a class=\"tag\" href=\"\/tag\/deep-thoughts\/page\/1\/\">deep-thoughts<\/a>\\n            \\n            <a class=\"tag\" href=\"\/tag\/thinking\/page\/1\/\">thinking<\/a>\\n            \\n            <a class=\"tag\" href=\"\/tag\/world\/page\/1\/\">world<\/a>\\n            \\n        <\/div>\\n    <\/div>\\n\\n    <div class=\"quote\" itemscope itemtype=\"http:\/\/schema.org\/CreativeWork\">\\n        <span class=\"text\" itemprop=\"text\">\\xe2\\x80\\x9cIt is our choices, Harry, that show what we truly are, far more than our abilities.\\xe2\\x80\\x9d<\/span>\\n        <span>by <small class=\"author\" itemprop=\"author\">J.K. Rowling<\/small>\\n        <a href=\"\/author\/J-K-Rowling\">(about)<\/a>\\n        <\/span>\\n        <div class=\"tags\">\\n            Tags:\\n            <meta class=\"keywords\" itemprop=\"keywords\" content=\"abilities,choices\" \/    > \\n            \\n            <a class=\"tag\" href=\"\/tag\/abilities\/page\/1\/\">abilities<\/a>\\n            \\n            <a class=\"tag\" href=\"\/tag\/choices\/page\/1\/\">choices<\/a>\\n            \\n        <\/div>\\n    <\/div>\\n\\n    <div class=\"quote\" itemscope itemtype=\"http:\/\/schema.org\/CreativeWork\">\\n        <span class=\"text\" itemprop=\"text\">\\xe2\\x80\\x9cThere are only two ways to live your life. One is as though nothing is a miracle. The other is as though everything is a miracle.\\xe2\\x80\\x9d<\/span>\\n        <span>by <small class=\"author\" itemprop=\"author\">Albert Einstein<\/small>\\n        <a href=\"\/author\/Albert-Einstein\">(about)<\/a>\\n        <\/span>\\n        <div class=\"tags\">\\n            Tags:\\n            <meta class=\"keywords\" itemprop=\"keywords\" content=\"inspirational,life,live,miracle,miracles\" \/    > \\n            \\n            <a class=\"tag\" href=\"\/tag\/inspirational\/page\/1\/\">inspirational<\/a>\\n            \\n            <a class=\"tag\" href=\"\/tag\/life\/page\/1\/\">life<\/a>\\n            \\n            <a class=\"tag\" href=\"\/tag\/live\/page\/1\/\">live<\/a>\\n            \\n            <a class=\"tag\" href=\"\/tag\/miracle\/page\/1\/\">miracle<\/a>\\n            \\n            <a class=\"tag\" href=\"\/tag\/miracles\/page\/1\/\">miracles<\/a>\\n            \\n        <\/div>\\n    <\/div>\\n\\n    <div class=\"quote\" itemscope itemtype=\"http:\/\/schema.org\/CreativeWork\">\\n        <span class=\"text\" itemprop=\"text\">\\xe2\\x80\\x9cThe person, be it gentleman or lady, who has not pleasure in a good novel, must be intolerably stupid.\\xe2\\x80\\x9d<\/span>\\n        <span>by <small class=\"author\" itemprop=\"author\">Jane Austen<\/small>\\n        <a href=\"\/author\/Jane-Austen\">(about)<\/a>\\n        <\/span>\\n        <div class=\"tags\">\\n            Tags:\\n            <meta class=\"keywords\" itemprop=\"keywords\" content=\"aliteracy,books,classic,humor\" \/    > \\n            \\n            <a class=\"tag\" href=\"\/tag\/aliteracy\/page\/1\/\">aliteracy<\/a>\\n            \\n            <a class=\"tag\" href=\"\/tag\/books\/page\/1\/\">books<\/a>\\n            \\n            <a class=\"tag\" href=\"\/tag\/classic\/page\/1\/\">classic<\/a>\\n            \\n            <a class=\"tag\" href=\"\/tag\/humor\/page\/1\/\">humor<\/a>\\n            \\n        <\/div>\\n    <\/div>\\n\\n    <div class=\"quote\" itemscope itemtype=\"http:\/\/schema.org\/CreativeWork\">\\n        <span class=\"text\" itemprop=\"text\">\\xe2\\x80\\x9cImperfection is beauty, madness is genius and it&#39;s better to be absolutely ridiculous than absolutely boring.\\xe2\\x80\\x9d<\/span>\\n        <span>by <small class=\"author\" itemprop=\"author\">Marilyn Monroe<\/small>\\n        <a href=\"\/author\/Marilyn-Monroe\">(about)<\/a>\\n        <\/span>\\n        <div class=\"tags\">\\n            Tags:\\n            <meta class=\"keywords\" itemprop=\"keywords\" content=\"be-yourself,inspirational\" \/    > \\n            \\n            <a class=\"tag\" href=\"\/tag\/be-yourself\/page\/1\/\">be-yourself<\/a>\\n            \\n            <a class=\"tag\" href=\"\/tag\/inspirational\/page\/1\/\">inspirational<\/a>\\n            \\n        <\/div>\\n    <\/div>\\n\\n    <div class=\"quote\" itemscope itemtype=\"http:\/\/schema.org\/CreativeWork\">\\n        <span class=\"text\" itemprop=\"text\">\\xe2\\x80\\x9cTry not to become a man of success. Rather become a man of value.\\xe2\\x80\\x9d<\/span>\\n        <span>by <small class=\"author\" itemprop=\"author\">Albert Einstein<\/small>\\n        <a href=\"\/author\/Albert-Einstein\">(about)<\/a>\\n        <\/span>\\n        <div class=\"tags\">\\n            Tags:\\n            <meta class=\"keywords\" itemprop=\"keywords\" content=\"adulthood,success,value\" \/    > \\n            \\n            <a class=\"tag\" href=\"\/tag\/adulthood\/page\/1\/\">adulthood<\/a>\\n            \\n            <a class=\"tag\" href=\"\/tag\/success\/page\/1\/\">success<\/a>\\n            \\n            <a class=\"tag\" href=\"\/tag\/value\/page\/1\/\">value<\/a>\\n            \\n        <\/div>\\n    <\/div>\\n\\n    <div class=\"quote\" itemscope itemtype=\"http:\/\/schema.org\/CreativeWork\">\\n        <span class=\"text\" itemprop=\"text\">\\xe2\\x80\\x9cIt is better to be hated for what you are than to be loved for what you are not.\\xe2\\x80\\x9d<\/span>\\n        <span>by <small class=\"author\" itemprop=\"author\">Andr\\xc3\\xa9 Gide<\/small>\\n        <a href=\"\/author\/Andre-Gide\">(about)<\/a>\\n        <\/span>\\n        <div class=\"tags\">\\n            Tags:\\n            <meta class=\"keywords\" itemprop=\"keywords\" content=\"life,love\" \/    > \\n            \\n            <a class=\"tag\" href=\"\/tag\/life\/page\/1\/\">life<\/a>\\n            \\n            <a class=\"tag\" href=\"\/tag\/love\/page\/1\/\">love<\/a>\\n            \\n        <\/div>\\n    <\/div>\\n\\n    <div class=\"quote\" itemscope itemtype=\"http:\/\/schema.org\/CreativeWork\">\\n        <span class=\"text\" itemprop=\"text\">\\xe2\\x80\\x9cI have not failed. I&#39;ve just found 10,000 ways that won&#39;t work.\\xe2\\x80\\x9d<\/span>\\n        <span>by <small class=\"author\" itemprop=\"author\">Thomas A. Edison<\/small>\\n        <a href=\"\/author\/Thomas-A-Edison\">(about)<\/a>\\n        <\/span>\\n        <div class=\"tags\">\\n            Tags:\\n            <meta class=\"keywords\" itemprop=\"keywords\" content=\"edison,failure,inspirational,paraphrased\" \/    > \\n            \\n            <a class=\"tag\" href=\"\/tag\/edison\/page\/1\/\">edison<\/a>\\n            \\n            <a class=\"tag\" href=\"\/tag\/failure\/page\/1\/\">failure<\/a>\\n            \\n            <a class=\"tag\" href=\"\/tag\/inspirational\/page\/1\/\">inspirational<\/a>\\n            \\n            <a class=\"tag\" href=\"\/tag\/paraphrased\/page\/1\/\">paraphrased<\/a>\\n            \\n        <\/div>\\n    <\/div>\\n\\n    <div class=\"quote\" itemscope itemtype=\"http:\/\/schema.org\/CreativeWork\">\\n        <span class=\"text\" itemprop=\"text\">\\xe2\\x80\\x9cA woman is like a tea bag; you never know how strong it is until it&#39;s in hot water.\\xe2\\x80\\x9d<\/span>\\n        <span>by <small class=\"author\" itemprop=\"author\">Eleanor Roosevelt<\/small>\\n        <a href=\"\/author\/Eleanor-Roosevelt\">(about)<\/a>\\n        <\/span>\\n        <div class=\"tags\">\\n            Tags:\\n            <meta class=\"keywords\" itemprop=\"keywords\" content=\"misattributed-eleanor-roosevelt\" \/    > \\n            \\n            <a class=\"tag\" href=\"\/tag\/misattributed-eleanor-roosevelt\/page\/1\/\">misattributed-eleanor-roosevelt<\/a>\\n            \\n        <\/div>\\n    <\/div>\\n\\n    <div class=\"quote\" itemscope itemtype=\"http:\/\/schema.org\/CreativeWork\">\\n        <span class=\"text\" itemprop=\"text\">\\xe2\\x80\\x9cA day without sunshine is like, you know, night.\\xe2\\x80\\x9d<\/span>\\n        <span>by <small class=\"author\" itemprop=\"author\">Steve Martin<\/small>\\n        <a href=\"\/author\/Steve-Martin\">(about)<\/a>\\n        <\/span>\\n        <div class=\"tags\">\\n            Tags:\\n            <meta class=\"keywords\" itemprop=\"keywords\" content=\"humor,obvious,simile\" \/    > \\n            \\n            <a class=\"tag\" href=\"\/tag\/humor\/page\/1\/\">humor<\/a>\\n            \\n            <a class=\"tag\" href=\"\/tag\/obvious\/page\/1\/\">obvious<\/a>\\n            \\n            <a class=\"tag\" href=\"\/tag\/simile\/page\/1\/\">simile<\/a>\\n            \\n        <\/div>\\n    <\/div>\\n\\n    <nav>\\n        <ul class=\"pager\">\\n            \\n            \\n            <li class=\"next\">\\n                <a href=\"\/page\/2\/\">Next <span aria-hidden=\"true\">&rarr;<\/span><\/a>\\n            <\/li>\\n            \\n        <\/ul>\\n    <\/nav>\\n    <\/div>\\n    <div class=\"col-md-4 tags-box\">\\n        \\n            <h2>Top Ten tags<\/h2>\\n            \\n            <span class=\"tag-item\">\\n            <a class=\"tag\" style=\"font-size: 28px\" href=\"\/tag\/love\/\">love<\/a>\\n            <\/span>\\n            \\n            <span class=\"tag-item\">\\n            <a class=\"tag\" style=\"font-size: 26px\" href=\"\/tag\/inspirational\/\">inspirational<\/a>\\n            <\/span>\\n            \\n            <span class=\"tag-item\">\\n            <a class=\"tag\" style=\"font-size: 26px\" href=\"\/tag\/life\/\">life<\/a>\\n            <\/span>\\n            \\n            <span class=\"tag-item\">\\n            <a class=\"tag\" style=\"font-size: 24px\" href=\"\/tag\/humor\/\">humor<\/a>\\n            <\/span>\\n            \\n            <span class=\"tag-item\">\\n            <a class=\"tag\" style=\"font-size: 22px\" href=\"\/tag\/books\/\">books<\/a>\\n            <\/span>\\n            \\n            <span class=\"tag-item\">\\n            <a class=\"tag\" style=\"font-size: 14px\" href=\"\/tag\/reading\/\">reading<\/a>\\n            <\/span>\\n            \\n            <span class=\"tag-item\">\\n            <a class=\"tag\" style=\"font-size: 10px\" href=\"\/tag\/friendship\/\">friendship<\/a>\\n            <\/span>\\n            \\n            <span class=\"tag-item\">\\n            <a class=\"tag\" style=\"font-size: 8px\" href=\"\/tag\/friends\/\">friends<\/a>\\n            <\/span>\\n            \\n            <span class=\"tag-item\">\\n            <a class=\"tag\" style=\"font-size: 8px\" href=\"\/tag\/truth\/\">truth<\/a>\\n            <\/span>\\n            \\n            <span class=\"tag-item\">\\n            <a class=\"tag\" style=\"font-size: 6px\" href=\"\/tag\/simile\/\">simile<\/a>\\n            <\/span>\\n            \\n        \\n    <\/div>\\n<\/div>\\n\\n    <\/div>\\n    <footer class=\"footer\">\\n        <div class=\"container\">\\n            <p class=\"text-muted\">\\n                Quotes by: <a href=\"https:\/\/www.goodreads.com\/quotes\">GoodReads.com<\/a>\\n            <\/p>\\n            <p class=\"copyright\">\\n                Made with <span class=\\'sh-red\\'>\\xe2\\x9d\\xa4<\/span> by <a href=\"https:\/\/scrapinghub.com\">Scrapinghub<\/a>\\n            <\/p>\\n        <\/div>\\n    <\/footer>\\n<\/body>\\n<\/html>'"
      ]
     },
     "metadata":{
      
     },
     "output_type":"display_data"
    }
   ],
   "metadata":{
    "datalore":{
     "node_id":"WAd9bX01IRZcPfSZ60GijT",
     "type":"CODE",
     "hide_input_from_viewers":false,
     "hide_output_from_viewers":false
    }
   }
  },
  {
   "cell_type":"code",
   "source":[
    "content.decode(\"utf-8\")"
   ],
   "execution_count":10,
   "outputs":[
    {
     "data":{
      "text\/plain":[
       "'<!DOCTYPE html>\\n<html lang=\"en\">\\n<head>\\n\\t<meta charset=\"UTF-8\">\\n\\t<title>Quotes to Scrape<\/title>\\n    <link rel=\"stylesheet\" href=\"\/static\/bootstrap.min.css\">\\n    <link rel=\"stylesheet\" href=\"\/static\/main.css\">\\n<\/head>\\n<body>\\n    <div class=\"container\">\\n        <div class=\"row header-box\">\\n            <div class=\"col-md-8\">\\n                <h1>\\n                    <a href=\"\/\" style=\"text-decoration: none\">Quotes to Scrape<\/a>\\n                <\/h1>\\n            <\/div>\\n            <div class=\"col-md-4\">\\n                <p>\\n                \\n                    <a href=\"\/login\">Login<\/a>\\n                \\n                <\/p>\\n            <\/div>\\n        <\/div>\\n    \\n\\n<div class=\"row\">\\n    <div class=\"col-md-8\">\\n\\n    <div class=\"quote\" itemscope itemtype=\"http:\/\/schema.org\/CreativeWork\">\\n        <span class=\"text\" itemprop=\"text\">“The world as we have created it is a process of our thinking. It cannot be changed without changing our thinking.”<\/span>\\n        <span>by <small class=\"author\" itemprop=\"author\">Albert Einstein<\/small>\\n        <a href=\"\/author\/Albert-Einstein\">(about)<\/a>\\n        <\/span>\\n        <div class=\"tags\">\\n            Tags:\\n            <meta class=\"keywords\" itemprop=\"keywords\" content=\"change,deep-thoughts,thinking,world\" \/    > \\n            \\n            <a class=\"tag\" href=\"\/tag\/change\/page\/1\/\">change<\/a>\\n            \\n            <a class=\"tag\" href=\"\/tag\/deep-thoughts\/page\/1\/\">deep-thoughts<\/a>\\n            \\n            <a class=\"tag\" href=\"\/tag\/thinking\/page\/1\/\">thinking<\/a>\\n            \\n            <a class=\"tag\" href=\"\/tag\/world\/page\/1\/\">world<\/a>\\n            \\n        <\/div>\\n    <\/div>\\n\\n    <div class=\"quote\" itemscope itemtype=\"http:\/\/schema.org\/CreativeWork\">\\n        <span class=\"text\" itemprop=\"text\">“It is our choices, Harry, that show what we truly are, far more than our abilities.”<\/span>\\n        <span>by <small class=\"author\" itemprop=\"author\">J.K. Rowling<\/small>\\n        <a href=\"\/author\/J-K-Rowling\">(about)<\/a>\\n        <\/span>\\n        <div class=\"tags\">\\n            Tags:\\n            <meta class=\"keywords\" itemprop=\"keywords\" content=\"abilities,choices\" \/    > \\n            \\n            <a class=\"tag\" href=\"\/tag\/abilities\/page\/1\/\">abilities<\/a>\\n            \\n            <a class=\"tag\" href=\"\/tag\/choices\/page\/1\/\">choices<\/a>\\n            \\n        <\/div>\\n    <\/div>\\n\\n    <div class=\"quote\" itemscope itemtype=\"http:\/\/schema.org\/CreativeWork\">\\n        <span class=\"text\" itemprop=\"text\">“There are only two ways to live your life. One is as though nothing is a miracle. The other is as though everything is a miracle.”<\/span>\\n        <span>by <small class=\"author\" itemprop=\"author\">Albert Einstein<\/small>\\n        <a href=\"\/author\/Albert-Einstein\">(about)<\/a>\\n        <\/span>\\n        <div class=\"tags\">\\n            Tags:\\n            <meta class=\"keywords\" itemprop=\"keywords\" content=\"inspirational,life,live,miracle,miracles\" \/    > \\n            \\n            <a class=\"tag\" href=\"\/tag\/inspirational\/page\/1\/\">inspirational<\/a>\\n            \\n            <a class=\"tag\" href=\"\/tag\/life\/page\/1\/\">life<\/a>\\n            \\n            <a class=\"tag\" href=\"\/tag\/live\/page\/1\/\">live<\/a>\\n            \\n            <a class=\"tag\" href=\"\/tag\/miracle\/page\/1\/\">miracle<\/a>\\n            \\n            <a class=\"tag\" href=\"\/tag\/miracles\/page\/1\/\">miracles<\/a>\\n            \\n        <\/div>\\n    <\/div>\\n\\n    <div class=\"quote\" itemscope itemtype=\"http:\/\/schema.org\/CreativeWork\">\\n        <span class=\"text\" itemprop=\"text\">“The person, be it gentleman or lady, who has not pleasure in a good novel, must be intolerably stupid.”<\/span>\\n        <span>by <small class=\"author\" itemprop=\"author\">Jane Austen<\/small>\\n        <a href=\"\/author\/Jane-Austen\">(about)<\/a>\\n        <\/span>\\n        <div class=\"tags\">\\n            Tags:\\n            <meta class=\"keywords\" itemprop=\"keywords\" content=\"aliteracy,books,classic,humor\" \/    > \\n            \\n            <a class=\"tag\" href=\"\/tag\/aliteracy\/page\/1\/\">aliteracy<\/a>\\n            \\n            <a class=\"tag\" href=\"\/tag\/books\/page\/1\/\">books<\/a>\\n            \\n            <a class=\"tag\" href=\"\/tag\/classic\/page\/1\/\">classic<\/a>\\n            \\n            <a class=\"tag\" href=\"\/tag\/humor\/page\/1\/\">humor<\/a>\\n            \\n        <\/div>\\n    <\/div>\\n\\n    <div class=\"quote\" itemscope itemtype=\"http:\/\/schema.org\/CreativeWork\">\\n        <span class=\"text\" itemprop=\"text\">“Imperfection is beauty, madness is genius and it&#39;s better to be absolutely ridiculous than absolutely boring.”<\/span>\\n        <span>by <small class=\"author\" itemprop=\"author\">Marilyn Monroe<\/small>\\n        <a href=\"\/author\/Marilyn-Monroe\">(about)<\/a>\\n        <\/span>\\n        <div class=\"tags\">\\n            Tags:\\n            <meta class=\"keywords\" itemprop=\"keywords\" content=\"be-yourself,inspirational\" \/    > \\n            \\n            <a class=\"tag\" href=\"\/tag\/be-yourself\/page\/1\/\">be-yourself<\/a>\\n            \\n            <a class=\"tag\" href=\"\/tag\/inspirational\/page\/1\/\">inspirational<\/a>\\n            \\n        <\/div>\\n    <\/div>\\n\\n    <div class=\"quote\" itemscope itemtype=\"http:\/\/schema.org\/CreativeWork\">\\n        <span class=\"text\" itemprop=\"text\">“Try not to become a man of success. Rather become a man of value.”<\/span>\\n        <span>by <small class=\"author\" itemprop=\"author\">Albert Einstein<\/small>\\n        <a href=\"\/author\/Albert-Einstein\">(about)<\/a>\\n        <\/span>\\n        <div class=\"tags\">\\n            Tags:\\n            <meta class=\"keywords\" itemprop=\"keywords\" content=\"adulthood,success,value\" \/    > \\n            \\n            <a class=\"tag\" href=\"\/tag\/adulthood\/page\/1\/\">adulthood<\/a>\\n            \\n            <a class=\"tag\" href=\"\/tag\/success\/page\/1\/\">success<\/a>\\n            \\n            <a class=\"tag\" href=\"\/tag\/value\/page\/1\/\">value<\/a>\\n            \\n        <\/div>\\n    <\/div>\\n\\n    <div class=\"quote\" itemscope itemtype=\"http:\/\/schema.org\/CreativeWork\">\\n        <span class=\"text\" itemprop=\"text\">“It is better to be hated for what you are than to be loved for what you are not.”<\/span>\\n        <span>by <small class=\"author\" itemprop=\"author\">André Gide<\/small>\\n        <a href=\"\/author\/Andre-Gide\">(about)<\/a>\\n        <\/span>\\n        <div class=\"tags\">\\n            Tags:\\n            <meta class=\"keywords\" itemprop=\"keywords\" content=\"life,love\" \/    > \\n            \\n            <a class=\"tag\" href=\"\/tag\/life\/page\/1\/\">life<\/a>\\n            \\n            <a class=\"tag\" href=\"\/tag\/love\/page\/1\/\">love<\/a>\\n            \\n        <\/div>\\n    <\/div>\\n\\n    <div class=\"quote\" itemscope itemtype=\"http:\/\/schema.org\/CreativeWork\">\\n        <span class=\"text\" itemprop=\"text\">“I have not failed. I&#39;ve just found 10,000 ways that won&#39;t work.”<\/span>\\n        <span>by <small class=\"author\" itemprop=\"author\">Thomas A. Edison<\/small>\\n        <a href=\"\/author\/Thomas-A-Edison\">(about)<\/a>\\n        <\/span>\\n        <div class=\"tags\">\\n            Tags:\\n            <meta class=\"keywords\" itemprop=\"keywords\" content=\"edison,failure,inspirational,paraphrased\" \/    > \\n            \\n            <a class=\"tag\" href=\"\/tag\/edison\/page\/1\/\">edison<\/a>\\n            \\n            <a class=\"tag\" href=\"\/tag\/failure\/page\/1\/\">failure<\/a>\\n            \\n            <a class=\"tag\" href=\"\/tag\/inspirational\/page\/1\/\">inspirational<\/a>\\n            \\n            <a class=\"tag\" href=\"\/tag\/paraphrased\/page\/1\/\">paraphrased<\/a>\\n            \\n        <\/div>\\n    <\/div>\\n\\n    <div class=\"quote\" itemscope itemtype=\"http:\/\/schema.org\/CreativeWork\">\\n        <span class=\"text\" itemprop=\"text\">“A woman is like a tea bag; you never know how strong it is until it&#39;s in hot water.”<\/span>\\n        <span>by <small class=\"author\" itemprop=\"author\">Eleanor Roosevelt<\/small>\\n        <a href=\"\/author\/Eleanor-Roosevelt\">(about)<\/a>\\n        <\/span>\\n        <div class=\"tags\">\\n            Tags:\\n            <meta class=\"keywords\" itemprop=\"keywords\" content=\"misattributed-eleanor-roosevelt\" \/    > \\n            \\n            <a class=\"tag\" href=\"\/tag\/misattributed-eleanor-roosevelt\/page\/1\/\">misattributed-eleanor-roosevelt<\/a>\\n            \\n        <\/div>\\n    <\/div>\\n\\n    <div class=\"quote\" itemscope itemtype=\"http:\/\/schema.org\/CreativeWork\">\\n        <span class=\"text\" itemprop=\"text\">“A day without sunshine is like, you know, night.”<\/span>\\n        <span>by <small class=\"author\" itemprop=\"author\">Steve Martin<\/small>\\n        <a href=\"\/author\/Steve-Martin\">(about)<\/a>\\n        <\/span>\\n        <div class=\"tags\">\\n            Tags:\\n            <meta class=\"keywords\" itemprop=\"keywords\" content=\"humor,obvious,simile\" \/    > \\n            \\n            <a class=\"tag\" href=\"\/tag\/humor\/page\/1\/\">humor<\/a>\\n            \\n            <a class=\"tag\" href=\"\/tag\/obvious\/page\/1\/\">obvious<\/a>\\n            \\n            <a class=\"tag\" href=\"\/tag\/simile\/page\/1\/\">simile<\/a>\\n            \\n        <\/div>\\n    <\/div>\\n\\n    <nav>\\n        <ul class=\"pager\">\\n            \\n            \\n            <li class=\"next\">\\n                <a href=\"\/page\/2\/\">Next <span aria-hidden=\"true\">&rarr;<\/span><\/a>\\n            <\/li>\\n            \\n        <\/ul>\\n    <\/nav>\\n    <\/div>\\n    <div class=\"col-md-4 tags-box\">\\n        \\n            <h2>Top Ten tags<\/h2>\\n            \\n            <span class=\"tag-item\">\\n            <a class=\"tag\" style=\"font-size: 28px\" href=\"\/tag\/love\/\">love<\/a>\\n            <\/span>\\n            \\n            <span class=\"tag-item\">\\n            <a class=\"tag\" style=\"font-size: 26px\" href=\"\/tag\/inspirational\/\">inspirational<\/a>\\n            <\/span>\\n            \\n            <span class=\"tag-item\">\\n            <a class=\"tag\" style=\"font-size: 26px\" href=\"\/tag\/life\/\">life<\/a>\\n            <\/span>\\n            \\n            <span class=\"tag-item\">\\n            <a class=\"tag\" style=\"font-size: 24px\" href=\"\/tag\/humor\/\">humor<\/a>\\n            <\/span>\\n            \\n            <span class=\"tag-item\">\\n            <a class=\"tag\" style=\"font-size: 22px\" href=\"\/tag\/books\/\">books<\/a>\\n            <\/span>\\n            \\n            <span class=\"tag-item\">\\n            <a class=\"tag\" style=\"font-size: 14px\" href=\"\/tag\/reading\/\">reading<\/a>\\n            <\/span>\\n            \\n            <span class=\"tag-item\">\\n            <a class=\"tag\" style=\"font-size: 10px\" href=\"\/tag\/friendship\/\">friendship<\/a>\\n            <\/span>\\n            \\n            <span class=\"tag-item\">\\n            <a class=\"tag\" style=\"font-size: 8px\" href=\"\/tag\/friends\/\">friends<\/a>\\n            <\/span>\\n            \\n            <span class=\"tag-item\">\\n            <a class=\"tag\" style=\"font-size: 8px\" href=\"\/tag\/truth\/\">truth<\/a>\\n            <\/span>\\n            \\n            <span class=\"tag-item\">\\n            <a class=\"tag\" style=\"font-size: 6px\" href=\"\/tag\/simile\/\">simile<\/a>\\n            <\/span>\\n            \\n        \\n    <\/div>\\n<\/div>\\n\\n    <\/div>\\n    <footer class=\"footer\">\\n        <div class=\"container\">\\n            <p class=\"text-muted\">\\n                Quotes by: <a href=\"https:\/\/www.goodreads.com\/quotes\">GoodReads.com<\/a>\\n            <\/p>\\n            <p class=\"copyright\">\\n                Made with <span class=\\'sh-red\\'>❤<\/span> by <a href=\"https:\/\/scrapinghub.com\">Scrapinghub<\/a>\\n            <\/p>\\n        <\/div>\\n    <\/footer>\\n<\/body>\\n<\/html>'"
      ]
     },
     "metadata":{
      
     },
     "output_type":"display_data"
    }
   ],
   "metadata":{
    "datalore":{
     "node_id":"FcNLTyQxZg7WAhveRAoZuF",
     "type":"CODE",
     "hide_input_from_viewers":false,
     "hide_output_from_viewers":false
    }
   }
  },
  {
   "cell_type":"code",
   "source":[
    "print(content.decode(\"utf-8\"))"
   ],
   "execution_count":11,
   "outputs":[
    {
     "name":"stdout",
     "text":[
      "<!DOCTYPE html>\n",
      "<html lang=\"en\">\n",
      "<head>\n",
      "\t<meta charset=\"UTF-8\">\n",
      "\t<title>Quotes to Scrape<\/title>\n",
      "    <link rel=\"stylesheet\" href=\"\/static\/bootstrap.min.css\">\n",
      "    <link rel=\"stylesheet\" href=\"\/static\/main.css\">\n",
      "<\/head>\n",
      "<body>\n",
      "    <div class=\"container\">\n",
      "        <div class=\"row header-box\">\n",
      "            <div class=\"col-md-8\">\n",
      "                <h1>\n",
      "                    <a href=\"\/\" style=\"text-decoration: none\">Quotes to Scrape<\/a>\n",
      "                <\/h1>\n",
      "            <\/div>\n",
      "            <div class=\"col-md-4\">\n",
      "                <p>\n",
      "                \n",
      "                    <a href=\"\/login\">Login<\/a>\n",
      "                \n",
      "                <\/p>\n",
      "            <\/div>\n",
      "        <\/div>\n",
      "    \n",
      "\n",
      "<div class=\"row\">\n",
      "    <div class=\"col-md-8\">\n",
      "\n",
      "    <div class=\"quote\" itemscope itemtype=\"http:\/\/schema.org\/CreativeWork\">\n",
      "        <span class=\"text\" itemprop=\"text\">“The world as we have created it is a process of our thinking. It cannot be changed without changing our thinking.”<\/span>\n",
      "        <span>by <small class=\"author\" itemprop=\"author\">Albert Einstein<\/small>\n",
      "        <a href=\"\/author\/Albert-Einstein\">(about)<\/a>\n",
      "        <\/span>\n",
      "        <div class=\"tags\">\n",
      "            Tags:\n",
      "            <meta class=\"keywords\" itemprop=\"keywords\" content=\"change,deep-thoughts,thinking,world\" \/    > \n",
      "            \n",
      "            <a class=\"tag\" href=\"\/tag\/change\/page\/1\/\">change<\/a>\n",
      "            \n",
      "            <a class=\"tag\" href=\"\/tag\/deep-thoughts\/page\/1\/\">deep-thoughts<\/a>\n",
      "            \n",
      "            <a class=\"tag\" href=\"\/tag\/thinking\/page\/1\/\">thinking<\/a>\n",
      "            \n",
      "            <a class=\"tag\" href=\"\/tag\/world\/page\/1\/\">world<\/a>\n",
      "            \n",
      "        <\/div>\n",
      "    <\/div>\n",
      "\n",
      "    <div class=\"quote\" itemscope itemtype=\"http:\/\/schema.org\/CreativeWork\">\n",
      "        <span class=\"text\" itemprop=\"text\">“It is our choices, Harry, that show what we truly are, far more than our abilities.”<\/span>\n",
      "        <span>by <small class=\"author\" itemprop=\"author\">J.K. Rowling<\/small>\n",
      "        <a href=\"\/author\/J-K-Rowling\">(about)<\/a>\n",
      "        <\/span>\n",
      "        <div class=\"tags\">\n",
      "            Tags:\n",
      "            <meta class=\"keywords\" itemprop=\"keywords\" content=\"abilities,choices\" \/    > \n",
      "            \n",
      "            <a class=\"tag\" href=\"\/tag\/abilities\/page\/1\/\">abilities<\/a>\n",
      "            \n",
      "            <a class=\"tag\" href=\"\/tag\/choices\/page\/1\/\">choices<\/a>\n",
      "            \n",
      "        <\/div>\n",
      "    <\/div>\n",
      "\n",
      "    <div class=\"quote\" itemscope itemtype=\"http:\/\/schema.org\/CreativeWork\">\n",
      "        <span class=\"text\" itemprop=\"text\">“There are only two ways to live your life. One is as though nothing is a miracle. The other is as though everything is a miracle.”<\/span>\n",
      "        <span>by <small class=\"author\" itemprop=\"author\">Albert Einstein<\/small>\n",
      "        <a href=\"\/author\/Albert-Einstein\">(about)<\/a>\n",
      "        <\/span>\n",
      "        <div class=\"tags\">\n",
      "            Tags:\n",
      "            <meta class=\"keywords\" itemprop=\"keywords\" content=\"inspirational,life,live,miracle,miracles\" \/    > \n",
      "            \n",
      "            <a class=\"tag\" href=\"\/tag\/inspirational\/page\/1\/\">inspirational<\/a>\n",
      "            \n",
      "            <a class=\"tag\" href=\"\/tag\/life\/page\/1\/\">life<\/a>\n",
      "            \n",
      "            <a class=\"tag\" href=\"\/tag\/live\/page\/1\/\">live<\/a>\n",
      "            \n",
      "            <a class=\"tag\" href=\"\/tag\/miracle\/page\/1\/\">miracle<\/a>\n",
      "            \n",
      "            <a class=\"tag\" href=\"\/tag\/miracles\/page\/1\/\">miracles<\/a>\n",
      "            \n",
      "        <\/div>\n",
      "    <\/div>\n",
      "\n",
      "    <div class=\"quote\" itemscope itemtype=\"http:\/\/schema.org\/CreativeWork\">\n",
      "        <span class=\"text\" itemprop=\"text\">“The person, be it gentleman or lady, who has not pleasure in a good novel, must be intolerably stupid.”<\/span>\n",
      "        <span>by <small class=\"author\" itemprop=\"author\">Jane Austen<\/small>\n",
      "        <a href=\"\/author\/Jane-Austen\">(about)<\/a>\n",
      "        <\/span>\n",
      "        <div class=\"tags\">\n",
      "            Tags:\n",
      "            <meta class=\"keywords\" itemprop=\"keywords\" content=\"aliteracy,books,classic,humor\" \/    > \n",
      "            \n",
      "            <a class=\"tag\" href=\"\/tag\/aliteracy\/page\/1\/\">aliteracy<\/a>\n",
      "            \n",
      "            <a class=\"tag\" href=\"\/tag\/books\/page\/1\/\">books<\/a>\n",
      "            \n",
      "            <a class=\"tag\" href=\"\/tag\/classic\/page\/1\/\">classic<\/a>\n",
      "            \n",
      "            <a class=\"tag\" href=\"\/tag\/humor\/page\/1\/\">humor<\/a>\n",
      "            \n",
      "        <\/div>\n",
      "    <\/div>\n",
      "\n",
      "    <div class=\"quote\" itemscope itemtype=\"http:\/\/schema.org\/CreativeWork\">\n",
      "        <span class=\"text\" itemprop=\"text\">“Imperfection is beauty, madness is genius and it&#39;s better to be absolutely ridiculous than absolutely boring.”<\/span>\n",
      "        <span>by <small class=\"author\" itemprop=\"author\">Marilyn Monroe<\/small>\n",
      "        <a href=\"\/author\/Marilyn-Monroe\">(about)<\/a>\n",
      "        <\/span>\n",
      "        <div class=\"tags\">\n",
      "            Tags:\n",
      "            <meta class=\"keywords\" itemprop=\"keywords\" content=\"be-yourself,inspirational\" \/    > \n",
      "            \n",
      "            <a class=\"tag\" href=\"\/tag\/be-yourself\/page\/1\/\">be-yourself<\/a>\n",
      "            \n",
      "            <a class=\"tag\" href=\"\/tag\/inspirational\/page\/1\/\">inspirational<\/a>\n",
      "            \n",
      "        <\/div>\n",
      "    <\/div>\n",
      "\n",
      "    <div class=\"quote\" itemscope itemtype=\"http:\/\/schema.org\/CreativeWork\">\n",
      "        <span class=\"text\" itemprop=\"text\">“Try not to become a man of success. Rather become a man of value.”<\/span>\n",
      "        <span>by <small class=\"author\" itemprop=\"author\">Albert Einstein<\/small>\n",
      "        <a href=\"\/author\/Albert-Einstein\">(about)<\/a>\n",
      "        <\/span>\n",
      "        <div class=\"tags\">\n",
      "            Tags:\n",
      "            <meta class=\"keywords\" itemprop=\"keywords\" content=\"adulthood,success,value\" \/    > \n",
      "            \n",
      "            <a class=\"tag\" href=\"\/tag\/adulthood\/page\/1\/\">adulthood<\/a>\n",
      "            \n",
      "            <a class=\"tag\" href=\"\/tag\/success\/page\/1\/\">success<\/a>\n",
      "            \n",
      "            <a class=\"tag\" href=\"\/tag\/value\/page\/1\/\">value<\/a>\n",
      "            \n",
      "        <\/div>\n",
      "    <\/div>\n",
      "\n",
      "    <div class=\"quote\" itemscope itemtype=\"http:\/\/schema.org\/CreativeWork\">\n",
      "        <span class=\"text\" itemprop=\"text\">“It is better to be hated for what you are than to be loved for what you are not.”<\/span>\n",
      "        <span>by <small class=\"author\" itemprop=\"author\">André Gide<\/small>\n",
      "        <a href=\"\/author\/Andre-Gide\">(about)<\/a>\n",
      "        <\/span>\n",
      "        <div class=\"tags\">\n",
      "            Tags:\n",
      "            <meta class=\"keywords\" itemprop=\"keywords\" content=\"life,love\" \/    > \n",
      "            \n",
      "            <a class=\"tag\" href=\"\/tag\/life\/page\/1\/\">life<\/a>\n",
      "            \n",
      "            <a class=\"tag\" href=\"\/tag\/love\/page\/1\/\">love<\/a>\n",
      "            \n",
      "        <\/div>\n",
      "    <\/div>\n",
      "\n",
      "    <div class=\"quote\" itemscope itemtype=\"http:\/\/schema.org\/CreativeWork\">\n",
      "        <span class=\"text\" itemprop=\"text\">“I have not failed. I&#39;ve just found 10,000 ways that won&#39;t work.”<\/span>\n",
      "        <span>by <small class=\"author\" itemprop=\"author\">Thomas A. Edison<\/small>\n",
      "        <a href=\"\/author\/Thomas-A-Edison\">(about)<\/a>\n",
      "        <\/span>\n",
      "        <div class=\"tags\">\n",
      "            Tags:\n",
      "            <meta class=\"keywords\" itemprop=\"keywords\" content=\"edison,failure,inspirational,paraphrased\" \/    > \n",
      "            \n",
      "            <a class=\"tag\" href=\"\/tag\/edison\/page\/1\/\">edison<\/a>\n",
      "            \n",
      "            <a class=\"tag\" href=\"\/tag\/failure\/page\/1\/\">failure<\/a>\n",
      "            \n",
      "            <a class=\"tag\" href=\"\/tag\/inspirational\/page\/1\/\">inspirational<\/a>\n",
      "            \n",
      "            <a class=\"tag\" href=\"\/tag\/paraphrased\/page\/1\/\">paraphrased<\/a>\n",
      "            \n",
      "        <\/div>\n",
      "    <\/div>\n",
      "\n",
      "    <div class=\"quote\" itemscope itemtype=\"http:\/\/schema.org\/CreativeWork\">\n",
      "        <span class=\"text\" itemprop=\"text\">“A woman is like a tea bag; you never know how strong it is until it&#39;s in hot water.”<\/span>\n",
      "        <span>by <small class=\"author\" itemprop=\"author\">Eleanor Roosevelt<\/small>\n",
      "        <a href=\"\/author\/Eleanor-Roosevelt\">(about)<\/a>\n",
      "        <\/span>\n",
      "        <div class=\"tags\">\n",
      "            Tags:\n",
      "            <meta class=\"keywords\" itemprop=\"keywords\" content=\"misattributed-eleanor-roosevelt\" \/    > \n",
      "            \n",
      "            <a class=\"tag\" href=\"\/tag\/misattributed-eleanor-roosevelt\/page\/1\/\">misattributed-eleanor-roosevelt<\/a>\n",
      "            \n",
      "        <\/div>\n",
      "    <\/div>\n",
      "\n",
      "    <div class=\"quote\" itemscope itemtype=\"http:\/\/schema.org\/CreativeWork\">\n",
      "        <span class=\"text\" itemprop=\"text\">“A day without sunshine is like, you know, night.”<\/span>\n",
      "        <span>by <small class=\"author\" itemprop=\"author\">Steve Martin<\/small>\n",
      "        <a href=\"\/author\/Steve-Martin\">(about)<\/a>\n",
      "        <\/span>\n",
      "        <div class=\"tags\">\n",
      "            Tags:\n",
      "            <meta class=\"keywords\" itemprop=\"keywords\" content=\"humor,obvious,simile\" \/    > \n",
      "            \n",
      "            <a class=\"tag\" href=\"\/tag\/humor\/page\/1\/\">humor<\/a>\n",
      "            \n",
      "            <a class=\"tag\" href=\"\/tag\/obvious\/page\/1\/\">obvious<\/a>\n",
      "            \n",
      "            <a class=\"tag\" href=\"\/tag\/simile\/page\/1\/\">simile<\/a>\n",
      "            \n",
      "        <\/div>\n",
      "    <\/div>\n",
      "\n",
      "    <nav>\n",
      "        <ul class=\"pager\">\n",
      "            \n",
      "            \n",
      "            <li class=\"next\">\n",
      "                <a href=\"\/page\/2\/\">Next <span aria-hidden=\"true\">&rarr;<\/span><\/a>\n",
      "            <\/li>\n",
      "            \n",
      "        <\/ul>\n",
      "    <\/nav>\n",
      "    <\/div>\n",
      "    <div class=\"col-md-4 tags-box\">\n",
      "        \n",
      "            <h2>Top Ten tags<\/h2>\n",
      "            \n",
      "            <span class=\"tag-item\">\n",
      "            <a class=\"tag\" style=\"font-size: 28px\" href=\"\/tag\/love\/\">love<\/a>\n",
      "            <\/span>\n",
      "            \n",
      "            <span class=\"tag-item\">\n",
      "            <a class=\"tag\" style=\"font-size: 26px\" href=\"\/tag\/inspirational\/\">inspirational<\/a>\n",
      "            <\/span>\n",
      "            \n",
      "            <span class=\"tag-item\">\n",
      "            <a class=\"tag\" style=\"font-size: 26px\" href=\"\/tag\/life\/\">life<\/a>\n",
      "            <\/span>\n",
      "            \n",
      "            <span class=\"tag-item\">\n",
      "            <a class=\"tag\" style=\"font-size: 24px\" href=\"\/tag\/humor\/\">humor<\/a>\n",
      "            <\/span>\n",
      "            \n",
      "            <span class=\"tag-item\">\n",
      "            <a class=\"tag\" style=\"font-size: 22px\" href=\"\/tag\/books\/\">books<\/a>\n",
      "            <\/span>\n",
      "            \n",
      "            <span class=\"tag-item\">\n",
      "            <a class=\"tag\" style=\"font-size: 14px\" href=\"\/tag\/reading\/\">reading<\/a>\n",
      "            <\/span>\n",
      "            \n",
      "            <span class=\"tag-item\">\n",
      "            <a class=\"tag\" style=\"font-size: 10px\" href=\"\/tag\/friendship\/\">friendship<\/a>\n",
      "            <\/span>\n",
      "            \n",
      "            <span class=\"tag-item\">\n",
      "            <a class=\"tag\" style=\"font-size: 8px\" href=\"\/tag\/friends\/\">friends<\/a>\n",
      "            <\/span>\n",
      "            \n",
      "            <span class=\"tag-item\">\n",
      "            <a class=\"tag\" style=\"font-size: 8px\" href=\"\/tag\/truth\/\">truth<\/a>\n",
      "            <\/span>\n",
      "            \n",
      "            <span class=\"tag-item\">\n",
      "            <a class=\"tag\" style=\"font-size: 6px\" href=\"\/tag\/simile\/\">simile<\/a>\n",
      "            <\/span>\n",
      "            \n",
      "        \n",
      "    <\/div>\n",
      "<\/div>\n",
      "\n",
      "    <\/div>\n",
      "    <footer class=\"footer\">\n",
      "        <div class=\"container\">\n",
      "            <p class=\"text-muted\">\n",
      "                Quotes by: <a href=\"https:\/\/www.goodreads.com\/quotes\">GoodReads.com<\/a>\n",
      "            <\/p>\n",
      "            <p class=\"copyright\">\n",
      "                Made with <span class='sh-red'>❤<\/span> by <a href=\"https:\/\/scrapinghub.com\">Scrapinghub<\/a>\n",
      "            <\/p>\n",
      "        <\/div>\n",
      "    <\/footer>\n",
      "<\/body>\n",
      "<\/html>\n"
     ],
     "output_type":"stream"
    }
   ],
   "metadata":{
    "datalore":{
     "node_id":"iiX1MZE3CEXgi8I6WTo12W",
     "type":"CODE",
     "hide_input_from_viewers":false,
     "hide_output_from_viewers":false
    }
   }
  },
  {
   "cell_type":"code",
   "source":[
    "with urlopen(url) as resp:\n",
    "    content = resp.read()\n",
    "    print(content.decode(\"utf-8\"))"
   ],
   "execution_count":12,
   "outputs":[
    {
     "name":"stdout",
     "text":[
      "<!DOCTYPE html>\n",
      "<html lang=\"en\">\n",
      "<head>\n",
      "\t<meta charset=\"UTF-8\">\n",
      "\t<title>Quotes to Scrape<\/title>\n",
      "    <link rel=\"stylesheet\" href=\"\/static\/bootstrap.min.css\">\n",
      "    <link rel=\"stylesheet\" href=\"\/static\/main.css\">\n",
      "<\/head>\n",
      "<body>\n",
      "    <div class=\"container\">\n",
      "        <div class=\"row header-box\">\n",
      "            <div class=\"col-md-8\">\n",
      "                <h1>\n",
      "                    <a href=\"\/\" style=\"text-decoration: none\">Quotes to Scrape<\/a>\n",
      "                <\/h1>\n",
      "            <\/div>\n",
      "            <div class=\"col-md-4\">\n",
      "                <p>\n",
      "                \n",
      "                    <a href=\"\/login\">Login<\/a>\n",
      "                \n",
      "                <\/p>\n",
      "            <\/div>\n",
      "        <\/div>\n",
      "    \n",
      "\n",
      "<div class=\"row\">\n",
      "    <div class=\"col-md-8\">\n",
      "\n",
      "    <div class=\"quote\" itemscope itemtype=\"http:\/\/schema.org\/CreativeWork\">\n",
      "        <span class=\"text\" itemprop=\"text\">“The world as we have created it is a process of our thinking. It cannot be changed without changing our thinking.”<\/span>\n",
      "        <span>by <small class=\"author\" itemprop=\"author\">Albert Einstein<\/small>\n",
      "        <a href=\"\/author\/Albert-Einstein\">(about)<\/a>\n",
      "        <\/span>\n",
      "        <div class=\"tags\">\n",
      "            Tags:\n",
      "            <meta class=\"keywords\" itemprop=\"keywords\" content=\"change,deep-thoughts,thinking,world\" \/    > \n",
      "            \n",
      "            <a class=\"tag\" href=\"\/tag\/change\/page\/1\/\">change<\/a>\n",
      "            \n",
      "            <a class=\"tag\" href=\"\/tag\/deep-thoughts\/page\/1\/\">deep-thoughts<\/a>\n",
      "            \n",
      "            <a class=\"tag\" href=\"\/tag\/thinking\/page\/1\/\">thinking<\/a>\n",
      "            \n",
      "            <a class=\"tag\" href=\"\/tag\/world\/page\/1\/\">world<\/a>\n",
      "            \n",
      "        <\/div>\n",
      "    <\/div>\n",
      "\n",
      "    <div class=\"quote\" itemscope itemtype=\"http:\/\/schema.org\/CreativeWork\">\n",
      "        <span class=\"text\" itemprop=\"text\">“It is our choices, Harry, that show what we truly are, far more than our abilities.”<\/span>\n",
      "        <span>by <small class=\"author\" itemprop=\"author\">J.K. Rowling<\/small>\n",
      "        <a href=\"\/author\/J-K-Rowling\">(about)<\/a>\n",
      "        <\/span>\n",
      "        <div class=\"tags\">\n",
      "            Tags:\n",
      "            <meta class=\"keywords\" itemprop=\"keywords\" content=\"abilities,choices\" \/    > \n",
      "            \n",
      "            <a class=\"tag\" href=\"\/tag\/abilities\/page\/1\/\">abilities<\/a>\n",
      "            \n",
      "            <a class=\"tag\" href=\"\/tag\/choices\/page\/1\/\">choices<\/a>\n",
      "            \n",
      "        <\/div>\n",
      "    <\/div>\n",
      "\n",
      "    <div class=\"quote\" itemscope itemtype=\"http:\/\/schema.org\/CreativeWork\">\n",
      "        <span class=\"text\" itemprop=\"text\">“There are only two ways to live your life. One is as though nothing is a miracle. The other is as though everything is a miracle.”<\/span>\n",
      "        <span>by <small class=\"author\" itemprop=\"author\">Albert Einstein<\/small>\n",
      "        <a href=\"\/author\/Albert-Einstein\">(about)<\/a>\n",
      "        <\/span>\n",
      "        <div class=\"tags\">\n",
      "            Tags:\n",
      "            <meta class=\"keywords\" itemprop=\"keywords\" content=\"inspirational,life,live,miracle,miracles\" \/    > \n",
      "            \n",
      "            <a class=\"tag\" href=\"\/tag\/inspirational\/page\/1\/\">inspirational<\/a>\n",
      "            \n",
      "            <a class=\"tag\" href=\"\/tag\/life\/page\/1\/\">life<\/a>\n",
      "            \n",
      "            <a class=\"tag\" href=\"\/tag\/live\/page\/1\/\">live<\/a>\n",
      "            \n",
      "            <a class=\"tag\" href=\"\/tag\/miracle\/page\/1\/\">miracle<\/a>\n",
      "            \n",
      "            <a class=\"tag\" href=\"\/tag\/miracles\/page\/1\/\">miracles<\/a>\n",
      "            \n",
      "        <\/div>\n",
      "    <\/div>\n",
      "\n",
      "    <div class=\"quote\" itemscope itemtype=\"http:\/\/schema.org\/CreativeWork\">\n",
      "        <span class=\"text\" itemprop=\"text\">“The person, be it gentleman or lady, who has not pleasure in a good novel, must be intolerably stupid.”<\/span>\n",
      "        <span>by <small class=\"author\" itemprop=\"author\">Jane Austen<\/small>\n",
      "        <a href=\"\/author\/Jane-Austen\">(about)<\/a>\n",
      "        <\/span>\n",
      "        <div class=\"tags\">\n",
      "            Tags:\n",
      "            <meta class=\"keywords\" itemprop=\"keywords\" content=\"aliteracy,books,classic,humor\" \/    > \n",
      "            \n",
      "            <a class=\"tag\" href=\"\/tag\/aliteracy\/page\/1\/\">aliteracy<\/a>\n",
      "            \n",
      "            <a class=\"tag\" href=\"\/tag\/books\/page\/1\/\">books<\/a>\n",
      "            \n",
      "            <a class=\"tag\" href=\"\/tag\/classic\/page\/1\/\">classic<\/a>\n",
      "            \n",
      "            <a class=\"tag\" href=\"\/tag\/humor\/page\/1\/\">humor<\/a>\n",
      "            \n",
      "        <\/div>\n",
      "    <\/div>\n",
      "\n",
      "    <div class=\"quote\" itemscope itemtype=\"http:\/\/schema.org\/CreativeWork\">\n",
      "        <span class=\"text\" itemprop=\"text\">“Imperfection is beauty, madness is genius and it&#39;s better to be absolutely ridiculous than absolutely boring.”<\/span>\n",
      "        <span>by <small class=\"author\" itemprop=\"author\">Marilyn Monroe<\/small>\n",
      "        <a href=\"\/author\/Marilyn-Monroe\">(about)<\/a>\n",
      "        <\/span>\n",
      "        <div class=\"tags\">\n",
      "            Tags:\n",
      "            <meta class=\"keywords\" itemprop=\"keywords\" content=\"be-yourself,inspirational\" \/    > \n",
      "            \n",
      "            <a class=\"tag\" href=\"\/tag\/be-yourself\/page\/1\/\">be-yourself<\/a>\n",
      "            \n",
      "            <a class=\"tag\" href=\"\/tag\/inspirational\/page\/1\/\">inspirational<\/a>\n",
      "            \n",
      "        <\/div>\n",
      "    <\/div>\n",
      "\n",
      "    <div class=\"quote\" itemscope itemtype=\"http:\/\/schema.org\/CreativeWork\">\n",
      "        <span class=\"text\" itemprop=\"text\">“Try not to become a man of success. Rather become a man of value.”<\/span>\n",
      "        <span>by <small class=\"author\" itemprop=\"author\">Albert Einstein<\/small>\n",
      "        <a href=\"\/author\/Albert-Einstein\">(about)<\/a>\n",
      "        <\/span>\n",
      "        <div class=\"tags\">\n",
      "            Tags:\n",
      "            <meta class=\"keywords\" itemprop=\"keywords\" content=\"adulthood,success,value\" \/    > \n",
      "            \n",
      "            <a class=\"tag\" href=\"\/tag\/adulthood\/page\/1\/\">adulthood<\/a>\n",
      "            \n",
      "            <a class=\"tag\" href=\"\/tag\/success\/page\/1\/\">success<\/a>\n",
      "            \n",
      "            <a class=\"tag\" href=\"\/tag\/value\/page\/1\/\">value<\/a>\n",
      "            \n",
      "        <\/div>\n",
      "    <\/div>\n",
      "\n",
      "    <div class=\"quote\" itemscope itemtype=\"http:\/\/schema.org\/CreativeWork\">\n",
      "        <span class=\"text\" itemprop=\"text\">“It is better to be hated for what you are than to be loved for what you are not.”<\/span>\n",
      "        <span>by <small class=\"author\" itemprop=\"author\">André Gide<\/small>\n",
      "        <a href=\"\/author\/Andre-Gide\">(about)<\/a>\n",
      "        <\/span>\n",
      "        <div class=\"tags\">\n",
      "            Tags:\n",
      "            <meta class=\"keywords\" itemprop=\"keywords\" content=\"life,love\" \/    > \n",
      "            \n",
      "            <a class=\"tag\" href=\"\/tag\/life\/page\/1\/\">life<\/a>\n",
      "            \n",
      "            <a class=\"tag\" href=\"\/tag\/love\/page\/1\/\">love<\/a>\n",
      "            \n",
      "        <\/div>\n",
      "    <\/div>\n",
      "\n",
      "    <div class=\"quote\" itemscope itemtype=\"http:\/\/schema.org\/CreativeWork\">\n",
      "        <span class=\"text\" itemprop=\"text\">“I have not failed. I&#39;ve just found 10,000 ways that won&#39;t work.”<\/span>\n",
      "        <span>by <small class=\"author\" itemprop=\"author\">Thomas A. Edison<\/small>\n",
      "        <a href=\"\/author\/Thomas-A-Edison\">(about)<\/a>\n",
      "        <\/span>\n",
      "        <div class=\"tags\">\n",
      "            Tags:\n",
      "            <meta class=\"keywords\" itemprop=\"keywords\" content=\"edison,failure,inspirational,paraphrased\" \/    > \n",
      "            \n",
      "            <a class=\"tag\" href=\"\/tag\/edison\/page\/1\/\">edison<\/a>\n",
      "            \n",
      "            <a class=\"tag\" href=\"\/tag\/failure\/page\/1\/\">failure<\/a>\n",
      "            \n",
      "            <a class=\"tag\" href=\"\/tag\/inspirational\/page\/1\/\">inspirational<\/a>\n",
      "            \n",
      "            <a class=\"tag\" href=\"\/tag\/paraphrased\/page\/1\/\">paraphrased<\/a>\n",
      "            \n",
      "        <\/div>\n",
      "    <\/div>\n",
      "\n",
      "    <div class=\"quote\" itemscope itemtype=\"http:\/\/schema.org\/CreativeWork\">\n",
      "        <span class=\"text\" itemprop=\"text\">“A woman is like a tea bag; you never know how strong it is until it&#39;s in hot water.”<\/span>\n",
      "        <span>by <small class=\"author\" itemprop=\"author\">Eleanor Roosevelt<\/small>\n",
      "        <a href=\"\/author\/Eleanor-Roosevelt\">(about)<\/a>\n",
      "        <\/span>\n",
      "        <div class=\"tags\">\n",
      "            Tags:\n",
      "            <meta class=\"keywords\" itemprop=\"keywords\" content=\"misattributed-eleanor-roosevelt\" \/    > \n",
      "            \n",
      "            <a class=\"tag\" href=\"\/tag\/misattributed-eleanor-roosevelt\/page\/1\/\">misattributed-eleanor-roosevelt<\/a>\n",
      "            \n",
      "        <\/div>\n",
      "    <\/div>\n",
      "\n",
      "    <div class=\"quote\" itemscope itemtype=\"http:\/\/schema.org\/CreativeWork\">\n",
      "        <span class=\"text\" itemprop=\"text\">“A day without sunshine is like, you know, night.”<\/span>\n",
      "        <span>by <small class=\"author\" itemprop=\"author\">Steve Martin<\/small>\n",
      "        <a href=\"\/author\/Steve-Martin\">(about)<\/a>\n",
      "        <\/span>\n",
      "        <div class=\"tags\">\n",
      "            Tags:\n",
      "            <meta class=\"keywords\" itemprop=\"keywords\" content=\"humor,obvious,simile\" \/    > \n",
      "            \n",
      "            <a class=\"tag\" href=\"\/tag\/humor\/page\/1\/\">humor<\/a>\n",
      "            \n",
      "            <a class=\"tag\" href=\"\/tag\/obvious\/page\/1\/\">obvious<\/a>\n",
      "            \n",
      "            <a class=\"tag\" href=\"\/tag\/simile\/page\/1\/\">simile<\/a>\n",
      "            \n",
      "        <\/div>\n",
      "    <\/div>\n",
      "\n",
      "    <nav>\n",
      "        <ul class=\"pager\">\n",
      "            \n",
      "            \n",
      "            <li class=\"next\">\n",
      "                <a href=\"\/page\/2\/\">Next <span aria-hidden=\"true\">&rarr;<\/span><\/a>\n",
      "            <\/li>\n",
      "            \n",
      "        <\/ul>\n",
      "    <\/nav>\n",
      "    <\/div>\n",
      "    <div class=\"col-md-4 tags-box\">\n",
      "        \n",
      "            <h2>Top Ten tags<\/h2>\n",
      "            \n",
      "            <span class=\"tag-item\">\n",
      "            <a class=\"tag\" style=\"font-size: 28px\" href=\"\/tag\/love\/\">love<\/a>\n",
      "            <\/span>\n",
      "            \n",
      "            <span class=\"tag-item\">\n",
      "            <a class=\"tag\" style=\"font-size: 26px\" href=\"\/tag\/inspirational\/\">inspirational<\/a>\n",
      "            <\/span>\n",
      "            \n",
      "            <span class=\"tag-item\">\n",
      "            <a class=\"tag\" style=\"font-size: 26px\" href=\"\/tag\/life\/\">life<\/a>\n",
      "            <\/span>\n",
      "            \n",
      "            <span class=\"tag-item\">\n",
      "            <a class=\"tag\" style=\"font-size: 24px\" href=\"\/tag\/humor\/\">humor<\/a>\n",
      "            <\/span>\n",
      "            \n",
      "            <span class=\"tag-item\">\n",
      "            <a class=\"tag\" style=\"font-size: 22px\" href=\"\/tag\/books\/\">books<\/a>\n",
      "            <\/span>\n",
      "            \n",
      "            <span class=\"tag-item\">\n",
      "            <a class=\"tag\" style=\"font-size: 14px\" href=\"\/tag\/reading\/\">reading<\/a>\n",
      "            <\/span>\n",
      "            \n",
      "            <span class=\"tag-item\">\n",
      "            <a class=\"tag\" style=\"font-size: 10px\" href=\"\/tag\/friendship\/\">friendship<\/a>\n",
      "            <\/span>\n",
      "            \n",
      "            <span class=\"tag-item\">\n",
      "            <a class=\"tag\" style=\"font-size: 8px\" href=\"\/tag\/friends\/\">friends<\/a>\n",
      "            <\/span>\n",
      "            \n",
      "            <span class=\"tag-item\">\n",
      "            <a class=\"tag\" style=\"font-size: 8px\" href=\"\/tag\/truth\/\">truth<\/a>\n",
      "            <\/span>\n",
      "            \n",
      "            <span class=\"tag-item\">\n",
      "            <a class=\"tag\" style=\"font-size: 6px\" href=\"\/tag\/simile\/\">simile<\/a>\n",
      "            <\/span>\n",
      "            \n",
      "        \n",
      "    <\/div>\n",
      "<\/div>\n",
      "\n",
      "    <\/div>\n",
      "    <footer class=\"footer\">\n",
      "        <div class=\"container\">\n",
      "            <p class=\"text-muted\">\n",
      "                Quotes by: <a href=\"https:\/\/www.goodreads.com\/quotes\">GoodReads.com<\/a>\n",
      "            <\/p>\n",
      "            <p class=\"copyright\">\n",
      "                Made with <span class='sh-red'>❤<\/span> by <a href=\"https:\/\/scrapinghub.com\">Scrapinghub<\/a>\n",
      "            <\/p>\n",
      "        <\/div>\n",
      "    <\/footer>\n",
      "<\/body>\n",
      "<\/html>\n"
     ],
     "output_type":"stream"
    }
   ],
   "metadata":{
    "datalore":{
     "node_id":"ZJDQBosTFXmmn1mJtKttHg",
     "type":"CODE",
     "hide_input_from_viewers":false,
     "hide_output_from_viewers":false
    }
   }
  },
  {
   "cell_type":"markdown",
   "source":[
    "# Requests"
   ],
   "attachments":{
    
   },
   "metadata":{
    "datalore":{
     "node_id":"w4P8hlhD1twZazZonoeWaU",
     "type":"MD",
     "hide_input_from_viewers":false,
     "hide_output_from_viewers":false
    }
   }
  },
  {
   "cell_type":"code",
   "source":[
    "url = \"http:\/\/quotes.toscrape.com\/\""
   ],
   "execution_count":2,
   "outputs":[
    
   ],
   "metadata":{
    "datalore":{
     "node_id":"z6cAhyXik2ICEavFLKdHyO",
     "type":"CODE",
     "hide_input_from_viewers":false,
     "hide_output_from_viewers":false
    }
   }
  },
  {
   "cell_type":"code",
   "source":[
    "!pip install requests == 2.28.2"
   ],
   "execution_count":3,
   "outputs":[
    {
     "name":"stdout",
     "text":[
      "Collecting requests==2.28.2\r\n",
      "  Using cached requests-2.28.2-py3-none-any.whl (62 kB)\r\n",
      "Requirement already satisfied: urllib3<1.27,>=1.21.1 in \/opt\/python\/envs\/default\/lib\/python3.8\/site-packages (from requests==2.28.2) (1.26.14)\r\n",
      "Requirement already satisfied: certifi>=2017.4.17 in \/opt\/python\/envs\/default\/lib\/python3.8\/site-packages (from requests==2.28.2) (2022.12.7)\r\n",
      "Requirement already satisfied: idna<4,>=2.5 in \/opt\/python\/envs\/default\/lib\/python3.8\/site-packages (from requests==2.28.2) (3.4)\r\n",
      "Requirement already satisfied: charset-normalizer<4,>=2 in \/opt\/python\/envs\/default\/lib\/python3.8\/site-packages (from requests==2.28.2) (2.0.12)\r\n",
      "Installing collected packages: requests\r\n",
      "Successfully installed requests-2.28.2\r\n",
      "\u001b[33mWARNING: You are using pip version 21.3.1; however, version 23.0 is available.\r\n",
      "You should consider upgrading via the '\/opt\/python\/envs\/default\/bin\/python -m pip install --upgrade pip' command.\u001b[0m\r\n"
     ],
     "output_type":"stream"
    }
   ],
   "metadata":{
    "datalore":{
     "node_id":"iAy5FYV9qbuOgQEetg9wfT",
     "type":"CODE",
     "hide_input_from_viewers":false,
     "hide_output_from_viewers":false
    }
   }
  },
  {
   "cell_type":"code",
   "source":[
    "import requests"
   ],
   "execution_count":4,
   "outputs":[
    
   ],
   "metadata":{
    "datalore":{
     "node_id":"moRCnRbeiGJcTZh1abhbwC",
     "type":"CODE",
     "hide_input_from_viewers":false,
     "hide_output_from_viewers":false
    }
   }
  },
  {
   "cell_type":"code",
   "source":[
    "resp = requests.get(url)"
   ],
   "execution_count":5,
   "outputs":[
    
   ],
   "metadata":{
    "datalore":{
     "node_id":"Pi5L9DRzozLOPY6GVPXqBu",
     "type":"CODE",
     "hide_input_from_viewers":false,
     "hide_output_from_viewers":false
    }
   }
  },
  {
   "cell_type":"code",
   "source":[
    "resp"
   ],
   "execution_count":6,
   "outputs":[
    {
     "data":{
      "text\/plain":[
       "<Response [200]>"
      ]
     },
     "metadata":{
      
     },
     "output_type":"display_data"
    }
   ],
   "metadata":{
    "datalore":{
     "node_id":"95x03AShCGWzpNYfm9H0ob",
     "type":"CODE",
     "hide_input_from_viewers":false,
     "hide_output_from_viewers":false
    }
   }
  },
  {
   "cell_type":"code",
   "source":[
    "resp.status_code"
   ],
   "execution_count":7,
   "outputs":[
    {
     "data":{
      "text\/plain":[
       "200"
      ]
     },
     "metadata":{
      
     },
     "output_type":"display_data"
    }
   ],
   "metadata":{
    "datalore":{
     "node_id":"zcV4pDUhm4usVhtLpvCv4b",
     "type":"CODE",
     "hide_input_from_viewers":false,
     "hide_output_from_viewers":false
    }
   }
  },
  {
   "cell_type":"code",
   "source":[
    "resp.content"
   ],
   "execution_count":8,
   "outputs":[
    {
     "data":{
      "text\/plain":[
       "b'<!DOCTYPE html>\\n<html lang=\"en\">\\n<head>\\n\\t<meta charset=\"UTF-8\">\\n\\t<title>Quotes to Scrape<\/title>\\n    <link rel=\"stylesheet\" href=\"\/static\/bootstrap.min.css\">\\n    <link rel=\"stylesheet\" href=\"\/static\/main.css\">\\n<\/head>\\n<body>\\n    <div class=\"container\">\\n        <div class=\"row header-box\">\\n            <div class=\"col-md-8\">\\n                <h1>\\n                    <a href=\"\/\" style=\"text-decoration: none\">Quotes to Scrape<\/a>\\n                <\/h1>\\n            <\/div>\\n            <div class=\"col-md-4\">\\n                <p>\\n                \\n                    <a href=\"\/login\">Login<\/a>\\n                \\n                <\/p>\\n            <\/div>\\n        <\/div>\\n    \\n\\n<div class=\"row\">\\n    <div class=\"col-md-8\">\\n\\n    <div class=\"quote\" itemscope itemtype=\"http:\/\/schema.org\/CreativeWork\">\\n        <span class=\"text\" itemprop=\"text\">\\xe2\\x80\\x9cThe world as we have created it is a process of our thinking. It cannot be changed without changing our thinking.\\xe2\\x80\\x9d<\/span>\\n        <span>by <small class=\"author\" itemprop=\"author\">Albert Einstein<\/small>\\n        <a href=\"\/author\/Albert-Einstein\">(about)<\/a>\\n        <\/span>\\n        <div class=\"tags\">\\n            Tags:\\n            <meta class=\"keywords\" itemprop=\"keywords\" content=\"change,deep-thoughts,thinking,world\" \/    > \\n            \\n            <a class=\"tag\" href=\"\/tag\/change\/page\/1\/\">change<\/a>\\n            \\n            <a class=\"tag\" href=\"\/tag\/deep-thoughts\/page\/1\/\">deep-thoughts<\/a>\\n            \\n            <a class=\"tag\" href=\"\/tag\/thinking\/page\/1\/\">thinking<\/a>\\n            \\n            <a class=\"tag\" href=\"\/tag\/world\/page\/1\/\">world<\/a>\\n            \\n        <\/div>\\n    <\/div>\\n\\n    <div class=\"quote\" itemscope itemtype=\"http:\/\/schema.org\/CreativeWork\">\\n        <span class=\"text\" itemprop=\"text\">\\xe2\\x80\\x9cIt is our choices, Harry, that show what we truly are, far more than our abilities.\\xe2\\x80\\x9d<\/span>\\n        <span>by <small class=\"author\" itemprop=\"author\">J.K. Rowling<\/small>\\n        <a href=\"\/author\/J-K-Rowling\">(about)<\/a>\\n        <\/span>\\n        <div class=\"tags\">\\n            Tags:\\n            <meta class=\"keywords\" itemprop=\"keywords\" content=\"abilities,choices\" \/    > \\n            \\n            <a class=\"tag\" href=\"\/tag\/abilities\/page\/1\/\">abilities<\/a>\\n            \\n            <a class=\"tag\" href=\"\/tag\/choices\/page\/1\/\">choices<\/a>\\n            \\n        <\/div>\\n    <\/div>\\n\\n    <div class=\"quote\" itemscope itemtype=\"http:\/\/schema.org\/CreativeWork\">\\n        <span class=\"text\" itemprop=\"text\">\\xe2\\x80\\x9cThere are only two ways to live your life. One is as though nothing is a miracle. The other is as though everything is a miracle.\\xe2\\x80\\x9d<\/span>\\n        <span>by <small class=\"author\" itemprop=\"author\">Albert Einstein<\/small>\\n        <a href=\"\/author\/Albert-Einstein\">(about)<\/a>\\n        <\/span>\\n        <div class=\"tags\">\\n            Tags:\\n            <meta class=\"keywords\" itemprop=\"keywords\" content=\"inspirational,life,live,miracle,miracles\" \/    > \\n            \\n            <a class=\"tag\" href=\"\/tag\/inspirational\/page\/1\/\">inspirational<\/a>\\n            \\n            <a class=\"tag\" href=\"\/tag\/life\/page\/1\/\">life<\/a>\\n            \\n            <a class=\"tag\" href=\"\/tag\/live\/page\/1\/\">live<\/a>\\n            \\n            <a class=\"tag\" href=\"\/tag\/miracle\/page\/1\/\">miracle<\/a>\\n            \\n            <a class=\"tag\" href=\"\/tag\/miracles\/page\/1\/\">miracles<\/a>\\n            \\n        <\/div>\\n    <\/div>\\n\\n    <div class=\"quote\" itemscope itemtype=\"http:\/\/schema.org\/CreativeWork\">\\n        <span class=\"text\" itemprop=\"text\">\\xe2\\x80\\x9cThe person, be it gentleman or lady, who has not pleasure in a good novel, must be intolerably stupid.\\xe2\\x80\\x9d<\/span>\\n        <span>by <small class=\"author\" itemprop=\"author\">Jane Austen<\/small>\\n        <a href=\"\/author\/Jane-Austen\">(about)<\/a>\\n        <\/span>\\n        <div class=\"tags\">\\n            Tags:\\n            <meta class=\"keywords\" itemprop=\"keywords\" content=\"aliteracy,books,classic,humor\" \/    > \\n            \\n            <a class=\"tag\" href=\"\/tag\/aliteracy\/page\/1\/\">aliteracy<\/a>\\n            \\n            <a class=\"tag\" href=\"\/tag\/books\/page\/1\/\">books<\/a>\\n            \\n            <a class=\"tag\" href=\"\/tag\/classic\/page\/1\/\">classic<\/a>\\n            \\n            <a class=\"tag\" href=\"\/tag\/humor\/page\/1\/\">humor<\/a>\\n            \\n        <\/div>\\n    <\/div>\\n\\n    <div class=\"quote\" itemscope itemtype=\"http:\/\/schema.org\/CreativeWork\">\\n        <span class=\"text\" itemprop=\"text\">\\xe2\\x80\\x9cImperfection is beauty, madness is genius and it&#39;s better to be absolutely ridiculous than absolutely boring.\\xe2\\x80\\x9d<\/span>\\n        <span>by <small class=\"author\" itemprop=\"author\">Marilyn Monroe<\/small>\\n        <a href=\"\/author\/Marilyn-Monroe\">(about)<\/a>\\n        <\/span>\\n        <div class=\"tags\">\\n            Tags:\\n            <meta class=\"keywords\" itemprop=\"keywords\" content=\"be-yourself,inspirational\" \/    > \\n            \\n            <a class=\"tag\" href=\"\/tag\/be-yourself\/page\/1\/\">be-yourself<\/a>\\n            \\n            <a class=\"tag\" href=\"\/tag\/inspirational\/page\/1\/\">inspirational<\/a>\\n            \\n        <\/div>\\n    <\/div>\\n\\n    <div class=\"quote\" itemscope itemtype=\"http:\/\/schema.org\/CreativeWork\">\\n        <span class=\"text\" itemprop=\"text\">\\xe2\\x80\\x9cTry not to become a man of success. Rather become a man of value.\\xe2\\x80\\x9d<\/span>\\n        <span>by <small class=\"author\" itemprop=\"author\">Albert Einstein<\/small>\\n        <a href=\"\/author\/Albert-Einstein\">(about)<\/a>\\n        <\/span>\\n        <div class=\"tags\">\\n            Tags:\\n            <meta class=\"keywords\" itemprop=\"keywords\" content=\"adulthood,success,value\" \/    > \\n            \\n            <a class=\"tag\" href=\"\/tag\/adulthood\/page\/1\/\">adulthood<\/a>\\n            \\n            <a class=\"tag\" href=\"\/tag\/success\/page\/1\/\">success<\/a>\\n            \\n            <a class=\"tag\" href=\"\/tag\/value\/page\/1\/\">value<\/a>\\n            \\n        <\/div>\\n    <\/div>\\n\\n    <div class=\"quote\" itemscope itemtype=\"http:\/\/schema.org\/CreativeWork\">\\n        <span class=\"text\" itemprop=\"text\">\\xe2\\x80\\x9cIt is better to be hated for what you are than to be loved for what you are not.\\xe2\\x80\\x9d<\/span>\\n        <span>by <small class=\"author\" itemprop=\"author\">Andr\\xc3\\xa9 Gide<\/small>\\n        <a href=\"\/author\/Andre-Gide\">(about)<\/a>\\n        <\/span>\\n        <div class=\"tags\">\\n            Tags:\\n            <meta class=\"keywords\" itemprop=\"keywords\" content=\"life,love\" \/    > \\n            \\n            <a class=\"tag\" href=\"\/tag\/life\/page\/1\/\">life<\/a>\\n            \\n            <a class=\"tag\" href=\"\/tag\/love\/page\/1\/\">love<\/a>\\n            \\n        <\/div>\\n    <\/div>\\n\\n    <div class=\"quote\" itemscope itemtype=\"http:\/\/schema.org\/CreativeWork\">\\n        <span class=\"text\" itemprop=\"text\">\\xe2\\x80\\x9cI have not failed. I&#39;ve just found 10,000 ways that won&#39;t work.\\xe2\\x80\\x9d<\/span>\\n        <span>by <small class=\"author\" itemprop=\"author\">Thomas A. Edison<\/small>\\n        <a href=\"\/author\/Thomas-A-Edison\">(about)<\/a>\\n        <\/span>\\n        <div class=\"tags\">\\n            Tags:\\n            <meta class=\"keywords\" itemprop=\"keywords\" content=\"edison,failure,inspirational,paraphrased\" \/    > \\n            \\n            <a class=\"tag\" href=\"\/tag\/edison\/page\/1\/\">edison<\/a>\\n            \\n            <a class=\"tag\" href=\"\/tag\/failure\/page\/1\/\">failure<\/a>\\n            \\n            <a class=\"tag\" href=\"\/tag\/inspirational\/page\/1\/\">inspirational<\/a>\\n            \\n            <a class=\"tag\" href=\"\/tag\/paraphrased\/page\/1\/\">paraphrased<\/a>\\n            \\n        <\/div>\\n    <\/div>\\n\\n    <div class=\"quote\" itemscope itemtype=\"http:\/\/schema.org\/CreativeWork\">\\n        <span class=\"text\" itemprop=\"text\">\\xe2\\x80\\x9cA woman is like a tea bag; you never know how strong it is until it&#39;s in hot water.\\xe2\\x80\\x9d<\/span>\\n        <span>by <small class=\"author\" itemprop=\"author\">Eleanor Roosevelt<\/small>\\n        <a href=\"\/author\/Eleanor-Roosevelt\">(about)<\/a>\\n        <\/span>\\n        <div class=\"tags\">\\n            Tags:\\n            <meta class=\"keywords\" itemprop=\"keywords\" content=\"misattributed-eleanor-roosevelt\" \/    > \\n            \\n            <a class=\"tag\" href=\"\/tag\/misattributed-eleanor-roosevelt\/page\/1\/\">misattributed-eleanor-roosevelt<\/a>\\n            \\n        <\/div>\\n    <\/div>\\n\\n    <div class=\"quote\" itemscope itemtype=\"http:\/\/schema.org\/CreativeWork\">\\n        <span class=\"text\" itemprop=\"text\">\\xe2\\x80\\x9cA day without sunshine is like, you know, night.\\xe2\\x80\\x9d<\/span>\\n        <span>by <small class=\"author\" itemprop=\"author\">Steve Martin<\/small>\\n        <a href=\"\/author\/Steve-Martin\">(about)<\/a>\\n        <\/span>\\n        <div class=\"tags\">\\n            Tags:\\n            <meta class=\"keywords\" itemprop=\"keywords\" content=\"humor,obvious,simile\" \/    > \\n            \\n            <a class=\"tag\" href=\"\/tag\/humor\/page\/1\/\">humor<\/a>\\n            \\n            <a class=\"tag\" href=\"\/tag\/obvious\/page\/1\/\">obvious<\/a>\\n            \\n            <a class=\"tag\" href=\"\/tag\/simile\/page\/1\/\">simile<\/a>\\n            \\n        <\/div>\\n    <\/div>\\n\\n    <nav>\\n        <ul class=\"pager\">\\n            \\n            \\n            <li class=\"next\">\\n                <a href=\"\/page\/2\/\">Next <span aria-hidden=\"true\">&rarr;<\/span><\/a>\\n            <\/li>\\n            \\n        <\/ul>\\n    <\/nav>\\n    <\/div>\\n    <div class=\"col-md-4 tags-box\">\\n        \\n            <h2>Top Ten tags<\/h2>\\n            \\n            <span class=\"tag-item\">\\n            <a class=\"tag\" style=\"font-size: 28px\" href=\"\/tag\/love\/\">love<\/a>\\n            <\/span>\\n            \\n            <span class=\"tag-item\">\\n            <a class=\"tag\" style=\"font-size: 26px\" href=\"\/tag\/inspirational\/\">inspirational<\/a>\\n            <\/span>\\n            \\n            <span class=\"tag-item\">\\n            <a class=\"tag\" style=\"font-size: 26px\" href=\"\/tag\/life\/\">life<\/a>\\n            <\/span>\\n            \\n            <span class=\"tag-item\">\\n            <a class=\"tag\" style=\"font-size: 24px\" href=\"\/tag\/humor\/\">humor<\/a>\\n            <\/span>\\n            \\n            <span class=\"tag-item\">\\n            <a class=\"tag\" style=\"font-size: 22px\" href=\"\/tag\/books\/\">books<\/a>\\n            <\/span>\\n            \\n            <span class=\"tag-item\">\\n            <a class=\"tag\" style=\"font-size: 14px\" href=\"\/tag\/reading\/\">reading<\/a>\\n            <\/span>\\n            \\n            <span class=\"tag-item\">\\n            <a class=\"tag\" style=\"font-size: 10px\" href=\"\/tag\/friendship\/\">friendship<\/a>\\n            <\/span>\\n            \\n            <span class=\"tag-item\">\\n            <a class=\"tag\" style=\"font-size: 8px\" href=\"\/tag\/friends\/\">friends<\/a>\\n            <\/span>\\n            \\n            <span class=\"tag-item\">\\n            <a class=\"tag\" style=\"font-size: 8px\" href=\"\/tag\/truth\/\">truth<\/a>\\n            <\/span>\\n            \\n            <span class=\"tag-item\">\\n            <a class=\"tag\" style=\"font-size: 6px\" href=\"\/tag\/simile\/\">simile<\/a>\\n            <\/span>\\n            \\n        \\n    <\/div>\\n<\/div>\\n\\n    <\/div>\\n    <footer class=\"footer\">\\n        <div class=\"container\">\\n            <p class=\"text-muted\">\\n                Quotes by: <a href=\"https:\/\/www.goodreads.com\/quotes\">GoodReads.com<\/a>\\n            <\/p>\\n            <p class=\"copyright\">\\n                Made with <span class=\\'sh-red\\'>\\xe2\\x9d\\xa4<\/span> by <a href=\"https:\/\/scrapinghub.com\">Scrapinghub<\/a>\\n            <\/p>\\n        <\/div>\\n    <\/footer>\\n<\/body>\\n<\/html>'"
      ]
     },
     "metadata":{
      
     },
     "output_type":"display_data"
    }
   ],
   "metadata":{
    "datalore":{
     "node_id":"RX0cUVr9lvUmmSJKMNF8QF",
     "type":"CODE",
     "hide_input_from_viewers":false,
     "hide_output_from_viewers":false
    }
   }
  },
  {
   "cell_type":"code",
   "source":[
    "print(resp.content.decode(\"utf-8\"))"
   ],
   "execution_count":9,
   "outputs":[
    {
     "name":"stdout",
     "text":[
      "<!DOCTYPE html>\n",
      "<html lang=\"en\">\n",
      "<head>\n",
      "\t<meta charset=\"UTF-8\">\n",
      "\t<title>Quotes to Scrape<\/title>\n",
      "    <link rel=\"stylesheet\" href=\"\/static\/bootstrap.min.css\">\n",
      "    <link rel=\"stylesheet\" href=\"\/static\/main.css\">\n",
      "<\/head>\n",
      "<body>\n",
      "    <div class=\"container\">\n",
      "        <div class=\"row header-box\">\n",
      "            <div class=\"col-md-8\">\n",
      "                <h1>\n",
      "                    <a href=\"\/\" style=\"text-decoration: none\">Quotes to Scrape<\/a>\n",
      "                <\/h1>\n",
      "            <\/div>\n",
      "            <div class=\"col-md-4\">\n",
      "                <p>\n",
      "                \n",
      "                    <a href=\"\/login\">Login<\/a>\n",
      "                \n",
      "                <\/p>\n",
      "            <\/div>\n",
      "        <\/div>\n",
      "    \n",
      "\n",
      "<div class=\"row\">\n",
      "    <div class=\"col-md-8\">\n",
      "\n",
      "    <div class=\"quote\" itemscope itemtype=\"http:\/\/schema.org\/CreativeWork\">\n",
      "        <span class=\"text\" itemprop=\"text\">“The world as we have created it is a process of our thinking. It cannot be changed without changing our thinking.”<\/span>\n",
      "        <span>by <small class=\"author\" itemprop=\"author\">Albert Einstein<\/small>\n",
      "        <a href=\"\/author\/Albert-Einstein\">(about)<\/a>\n",
      "        <\/span>\n",
      "        <div class=\"tags\">\n",
      "            Tags:\n",
      "            <meta class=\"keywords\" itemprop=\"keywords\" content=\"change,deep-thoughts,thinking,world\" \/    > \n",
      "            \n",
      "            <a class=\"tag\" href=\"\/tag\/change\/page\/1\/\">change<\/a>\n",
      "            \n",
      "            <a class=\"tag\" href=\"\/tag\/deep-thoughts\/page\/1\/\">deep-thoughts<\/a>\n",
      "            \n",
      "            <a class=\"tag\" href=\"\/tag\/thinking\/page\/1\/\">thinking<\/a>\n",
      "            \n",
      "            <a class=\"tag\" href=\"\/tag\/world\/page\/1\/\">world<\/a>\n",
      "            \n",
      "        <\/div>\n",
      "    <\/div>\n",
      "\n",
      "    <div class=\"quote\" itemscope itemtype=\"http:\/\/schema.org\/CreativeWork\">\n",
      "        <span class=\"text\" itemprop=\"text\">“It is our choices, Harry, that show what we truly are, far more than our abilities.”<\/span>\n",
      "        <span>by <small class=\"author\" itemprop=\"author\">J.K. Rowling<\/small>\n",
      "        <a href=\"\/author\/J-K-Rowling\">(about)<\/a>\n",
      "        <\/span>\n",
      "        <div class=\"tags\">\n",
      "            Tags:\n",
      "            <meta class=\"keywords\" itemprop=\"keywords\" content=\"abilities,choices\" \/    > \n",
      "            \n",
      "            <a class=\"tag\" href=\"\/tag\/abilities\/page\/1\/\">abilities<\/a>\n",
      "            \n",
      "            <a class=\"tag\" href=\"\/tag\/choices\/page\/1\/\">choices<\/a>\n",
      "            \n",
      "        <\/div>\n",
      "    <\/div>\n",
      "\n",
      "    <div class=\"quote\" itemscope itemtype=\"http:\/\/schema.org\/CreativeWork\">\n",
      "        <span class=\"text\" itemprop=\"text\">“There are only two ways to live your life. One is as though nothing is a miracle. The other is as though everything is a miracle.”<\/span>\n",
      "        <span>by <small class=\"author\" itemprop=\"author\">Albert Einstein<\/small>\n",
      "        <a href=\"\/author\/Albert-Einstein\">(about)<\/a>\n",
      "        <\/span>\n",
      "        <div class=\"tags\">\n",
      "            Tags:\n",
      "            <meta class=\"keywords\" itemprop=\"keywords\" content=\"inspirational,life,live,miracle,miracles\" \/    > \n",
      "            \n",
      "            <a class=\"tag\" href=\"\/tag\/inspirational\/page\/1\/\">inspirational<\/a>\n",
      "            \n",
      "            <a class=\"tag\" href=\"\/tag\/life\/page\/1\/\">life<\/a>\n",
      "            \n",
      "            <a class=\"tag\" href=\"\/tag\/live\/page\/1\/\">live<\/a>\n",
      "            \n",
      "            <a class=\"tag\" href=\"\/tag\/miracle\/page\/1\/\">miracle<\/a>\n",
      "            \n",
      "            <a class=\"tag\" href=\"\/tag\/miracles\/page\/1\/\">miracles<\/a>\n",
      "            \n",
      "        <\/div>\n",
      "    <\/div>\n",
      "\n",
      "    <div class=\"quote\" itemscope itemtype=\"http:\/\/schema.org\/CreativeWork\">\n",
      "        <span class=\"text\" itemprop=\"text\">“The person, be it gentleman or lady, who has not pleasure in a good novel, must be intolerably stupid.”<\/span>\n",
      "        <span>by <small class=\"author\" itemprop=\"author\">Jane Austen<\/small>\n",
      "        <a href=\"\/author\/Jane-Austen\">(about)<\/a>\n",
      "        <\/span>\n",
      "        <div class=\"tags\">\n",
      "            Tags:\n",
      "            <meta class=\"keywords\" itemprop=\"keywords\" content=\"aliteracy,books,classic,humor\" \/    > \n",
      "            \n",
      "            <a class=\"tag\" href=\"\/tag\/aliteracy\/page\/1\/\">aliteracy<\/a>\n",
      "            \n",
      "            <a class=\"tag\" href=\"\/tag\/books\/page\/1\/\">books<\/a>\n",
      "            \n",
      "            <a class=\"tag\" href=\"\/tag\/classic\/page\/1\/\">classic<\/a>\n",
      "            \n",
      "            <a class=\"tag\" href=\"\/tag\/humor\/page\/1\/\">humor<\/a>\n",
      "            \n",
      "        <\/div>\n",
      "    <\/div>\n",
      "\n",
      "    <div class=\"quote\" itemscope itemtype=\"http:\/\/schema.org\/CreativeWork\">\n",
      "        <span class=\"text\" itemprop=\"text\">“Imperfection is beauty, madness is genius and it&#39;s better to be absolutely ridiculous than absolutely boring.”<\/span>\n",
      "        <span>by <small class=\"author\" itemprop=\"author\">Marilyn Monroe<\/small>\n",
      "        <a href=\"\/author\/Marilyn-Monroe\">(about)<\/a>\n",
      "        <\/span>\n",
      "        <div class=\"tags\">\n",
      "            Tags:\n",
      "            <meta class=\"keywords\" itemprop=\"keywords\" content=\"be-yourself,inspirational\" \/    > \n",
      "            \n",
      "            <a class=\"tag\" href=\"\/tag\/be-yourself\/page\/1\/\">be-yourself<\/a>\n",
      "            \n",
      "            <a class=\"tag\" href=\"\/tag\/inspirational\/page\/1\/\">inspirational<\/a>\n",
      "            \n",
      "        <\/div>\n",
      "    <\/div>\n",
      "\n",
      "    <div class=\"quote\" itemscope itemtype=\"http:\/\/schema.org\/CreativeWork\">\n",
      "        <span class=\"text\" itemprop=\"text\">“Try not to become a man of success. Rather become a man of value.”<\/span>\n",
      "        <span>by <small class=\"author\" itemprop=\"author\">Albert Einstein<\/small>\n",
      "        <a href=\"\/author\/Albert-Einstein\">(about)<\/a>\n",
      "        <\/span>\n",
      "        <div class=\"tags\">\n",
      "            Tags:\n",
      "            <meta class=\"keywords\" itemprop=\"keywords\" content=\"adulthood,success,value\" \/    > \n",
      "            \n",
      "            <a class=\"tag\" href=\"\/tag\/adulthood\/page\/1\/\">adulthood<\/a>\n",
      "            \n",
      "            <a class=\"tag\" href=\"\/tag\/success\/page\/1\/\">success<\/a>\n",
      "            \n",
      "            <a class=\"tag\" href=\"\/tag\/value\/page\/1\/\">value<\/a>\n",
      "            \n",
      "        <\/div>\n",
      "    <\/div>\n",
      "\n",
      "    <div class=\"quote\" itemscope itemtype=\"http:\/\/schema.org\/CreativeWork\">\n",
      "        <span class=\"text\" itemprop=\"text\">“It is better to be hated for what you are than to be loved for what you are not.”<\/span>\n",
      "        <span>by <small class=\"author\" itemprop=\"author\">André Gide<\/small>\n",
      "        <a href=\"\/author\/Andre-Gide\">(about)<\/a>\n",
      "        <\/span>\n",
      "        <div class=\"tags\">\n",
      "            Tags:\n",
      "            <meta class=\"keywords\" itemprop=\"keywords\" content=\"life,love\" \/    > \n",
      "            \n",
      "            <a class=\"tag\" href=\"\/tag\/life\/page\/1\/\">life<\/a>\n",
      "            \n",
      "            <a class=\"tag\" href=\"\/tag\/love\/page\/1\/\">love<\/a>\n",
      "            \n",
      "        <\/div>\n",
      "    <\/div>\n",
      "\n",
      "    <div class=\"quote\" itemscope itemtype=\"http:\/\/schema.org\/CreativeWork\">\n",
      "        <span class=\"text\" itemprop=\"text\">“I have not failed. I&#39;ve just found 10,000 ways that won&#39;t work.”<\/span>\n",
      "        <span>by <small class=\"author\" itemprop=\"author\">Thomas A. Edison<\/small>\n",
      "        <a href=\"\/author\/Thomas-A-Edison\">(about)<\/a>\n",
      "        <\/span>\n",
      "        <div class=\"tags\">\n",
      "            Tags:\n",
      "            <meta class=\"keywords\" itemprop=\"keywords\" content=\"edison,failure,inspirational,paraphrased\" \/    > \n",
      "            \n",
      "            <a class=\"tag\" href=\"\/tag\/edison\/page\/1\/\">edison<\/a>\n",
      "            \n",
      "            <a class=\"tag\" href=\"\/tag\/failure\/page\/1\/\">failure<\/a>\n",
      "            \n",
      "            <a class=\"tag\" href=\"\/tag\/inspirational\/page\/1\/\">inspirational<\/a>\n",
      "            \n",
      "            <a class=\"tag\" href=\"\/tag\/paraphrased\/page\/1\/\">paraphrased<\/a>\n",
      "            \n",
      "        <\/div>\n",
      "    <\/div>\n",
      "\n",
      "    <div class=\"quote\" itemscope itemtype=\"http:\/\/schema.org\/CreativeWork\">\n",
      "        <span class=\"text\" itemprop=\"text\">“A woman is like a tea bag; you never know how strong it is until it&#39;s in hot water.”<\/span>\n",
      "        <span>by <small class=\"author\" itemprop=\"author\">Eleanor Roosevelt<\/small>\n",
      "        <a href=\"\/author\/Eleanor-Roosevelt\">(about)<\/a>\n",
      "        <\/span>\n",
      "        <div class=\"tags\">\n",
      "            Tags:\n",
      "            <meta class=\"keywords\" itemprop=\"keywords\" content=\"misattributed-eleanor-roosevelt\" \/    > \n",
      "            \n",
      "            <a class=\"tag\" href=\"\/tag\/misattributed-eleanor-roosevelt\/page\/1\/\">misattributed-eleanor-roosevelt<\/a>\n",
      "            \n",
      "        <\/div>\n",
      "    <\/div>\n",
      "\n",
      "    <div class=\"quote\" itemscope itemtype=\"http:\/\/schema.org\/CreativeWork\">\n",
      "        <span class=\"text\" itemprop=\"text\">“A day without sunshine is like, you know, night.”<\/span>\n",
      "        <span>by <small class=\"author\" itemprop=\"author\">Steve Martin<\/small>\n",
      "        <a href=\"\/author\/Steve-Martin\">(about)<\/a>\n",
      "        <\/span>\n",
      "        <div class=\"tags\">\n",
      "            Tags:\n",
      "            <meta class=\"keywords\" itemprop=\"keywords\" content=\"humor,obvious,simile\" \/    > \n",
      "            \n",
      "            <a class=\"tag\" href=\"\/tag\/humor\/page\/1\/\">humor<\/a>\n",
      "            \n",
      "            <a class=\"tag\" href=\"\/tag\/obvious\/page\/1\/\">obvious<\/a>\n",
      "            \n",
      "            <a class=\"tag\" href=\"\/tag\/simile\/page\/1\/\">simile<\/a>\n",
      "            \n",
      "        <\/div>\n",
      "    <\/div>\n",
      "\n",
      "    <nav>\n",
      "        <ul class=\"pager\">\n",
      "            \n",
      "            \n",
      "            <li class=\"next\">\n",
      "                <a href=\"\/page\/2\/\">Next <span aria-hidden=\"true\">&rarr;<\/span><\/a>\n",
      "            <\/li>\n",
      "            \n",
      "        <\/ul>\n",
      "    <\/nav>\n",
      "    <\/div>\n",
      "    <div class=\"col-md-4 tags-box\">\n",
      "        \n",
      "            <h2>Top Ten tags<\/h2>\n",
      "            \n",
      "            <span class=\"tag-item\">\n",
      "            <a class=\"tag\" style=\"font-size: 28px\" href=\"\/tag\/love\/\">love<\/a>\n",
      "            <\/span>\n",
      "            \n",
      "            <span class=\"tag-item\">\n",
      "            <a class=\"tag\" style=\"font-size: 26px\" href=\"\/tag\/inspirational\/\">inspirational<\/a>\n",
      "            <\/span>\n",
      "            \n",
      "            <span class=\"tag-item\">\n",
      "            <a class=\"tag\" style=\"font-size: 26px\" href=\"\/tag\/life\/\">life<\/a>\n",
      "            <\/span>\n",
      "            \n",
      "            <span class=\"tag-item\">\n",
      "            <a class=\"tag\" style=\"font-size: 24px\" href=\"\/tag\/humor\/\">humor<\/a>\n",
      "            <\/span>\n",
      "            \n",
      "            <span class=\"tag-item\">\n",
      "            <a class=\"tag\" style=\"font-size: 22px\" href=\"\/tag\/books\/\">books<\/a>\n",
      "            <\/span>\n",
      "            \n",
      "            <span class=\"tag-item\">\n",
      "            <a class=\"tag\" style=\"font-size: 14px\" href=\"\/tag\/reading\/\">reading<\/a>\n",
      "            <\/span>\n",
      "            \n",
      "            <span class=\"tag-item\">\n",
      "            <a class=\"tag\" style=\"font-size: 10px\" href=\"\/tag\/friendship\/\">friendship<\/a>\n",
      "            <\/span>\n",
      "            \n",
      "            <span class=\"tag-item\">\n",
      "            <a class=\"tag\" style=\"font-size: 8px\" href=\"\/tag\/friends\/\">friends<\/a>\n",
      "            <\/span>\n",
      "            \n",
      "            <span class=\"tag-item\">\n",
      "            <a class=\"tag\" style=\"font-size: 8px\" href=\"\/tag\/truth\/\">truth<\/a>\n",
      "            <\/span>\n",
      "            \n",
      "            <span class=\"tag-item\">\n",
      "            <a class=\"tag\" style=\"font-size: 6px\" href=\"\/tag\/simile\/\">simile<\/a>\n",
      "            <\/span>\n",
      "            \n",
      "        \n",
      "    <\/div>\n",
      "<\/div>\n",
      "\n",
      "    <\/div>\n",
      "    <footer class=\"footer\">\n",
      "        <div class=\"container\">\n",
      "            <p class=\"text-muted\">\n",
      "                Quotes by: <a href=\"https:\/\/www.goodreads.com\/quotes\">GoodReads.com<\/a>\n",
      "            <\/p>\n",
      "            <p class=\"copyright\">\n",
      "                Made with <span class='sh-red'>❤<\/span> by <a href=\"https:\/\/scrapinghub.com\">Scrapinghub<\/a>\n",
      "            <\/p>\n",
      "        <\/div>\n",
      "    <\/footer>\n",
      "<\/body>\n",
      "<\/html>\n"
     ],
     "output_type":"stream"
    }
   ],
   "metadata":{
    "datalore":{
     "node_id":"v33HjGK9Q7XsaHCNfLg1TW",
     "type":"CODE",
     "hide_input_from_viewers":false,
     "hide_output_from_viewers":false
    }
   }
  },
  {
   "cell_type":"code",
   "source":[
    "resp.text"
   ],
   "execution_count":10,
   "outputs":[
    {
     "data":{
      "text\/plain":[
       "'<!DOCTYPE html>\\n<html lang=\"en\">\\n<head>\\n\\t<meta charset=\"UTF-8\">\\n\\t<title>Quotes to Scrape<\/title>\\n    <link rel=\"stylesheet\" href=\"\/static\/bootstrap.min.css\">\\n    <link rel=\"stylesheet\" href=\"\/static\/main.css\">\\n<\/head>\\n<body>\\n    <div class=\"container\">\\n        <div class=\"row header-box\">\\n            <div class=\"col-md-8\">\\n                <h1>\\n                    <a href=\"\/\" style=\"text-decoration: none\">Quotes to Scrape<\/a>\\n                <\/h1>\\n            <\/div>\\n            <div class=\"col-md-4\">\\n                <p>\\n                \\n                    <a href=\"\/login\">Login<\/a>\\n                \\n                <\/p>\\n            <\/div>\\n        <\/div>\\n    \\n\\n<div class=\"row\">\\n    <div class=\"col-md-8\">\\n\\n    <div class=\"quote\" itemscope itemtype=\"http:\/\/schema.org\/CreativeWork\">\\n        <span class=\"text\" itemprop=\"text\">“The world as we have created it is a process of our thinking. It cannot be changed without changing our thinking.”<\/span>\\n        <span>by <small class=\"author\" itemprop=\"author\">Albert Einstein<\/small>\\n        <a href=\"\/author\/Albert-Einstein\">(about)<\/a>\\n        <\/span>\\n        <div class=\"tags\">\\n            Tags:\\n            <meta class=\"keywords\" itemprop=\"keywords\" content=\"change,deep-thoughts,thinking,world\" \/    > \\n            \\n            <a class=\"tag\" href=\"\/tag\/change\/page\/1\/\">change<\/a>\\n            \\n            <a class=\"tag\" href=\"\/tag\/deep-thoughts\/page\/1\/\">deep-thoughts<\/a>\\n            \\n            <a class=\"tag\" href=\"\/tag\/thinking\/page\/1\/\">thinking<\/a>\\n            \\n            <a class=\"tag\" href=\"\/tag\/world\/page\/1\/\">world<\/a>\\n            \\n        <\/div>\\n    <\/div>\\n\\n    <div class=\"quote\" itemscope itemtype=\"http:\/\/schema.org\/CreativeWork\">\\n        <span class=\"text\" itemprop=\"text\">“It is our choices, Harry, that show what we truly are, far more than our abilities.”<\/span>\\n        <span>by <small class=\"author\" itemprop=\"author\">J.K. Rowling<\/small>\\n        <a href=\"\/author\/J-K-Rowling\">(about)<\/a>\\n        <\/span>\\n        <div class=\"tags\">\\n            Tags:\\n            <meta class=\"keywords\" itemprop=\"keywords\" content=\"abilities,choices\" \/    > \\n            \\n            <a class=\"tag\" href=\"\/tag\/abilities\/page\/1\/\">abilities<\/a>\\n            \\n            <a class=\"tag\" href=\"\/tag\/choices\/page\/1\/\">choices<\/a>\\n            \\n        <\/div>\\n    <\/div>\\n\\n    <div class=\"quote\" itemscope itemtype=\"http:\/\/schema.org\/CreativeWork\">\\n        <span class=\"text\" itemprop=\"text\">“There are only two ways to live your life. One is as though nothing is a miracle. The other is as though everything is a miracle.”<\/span>\\n        <span>by <small class=\"author\" itemprop=\"author\">Albert Einstein<\/small>\\n        <a href=\"\/author\/Albert-Einstein\">(about)<\/a>\\n        <\/span>\\n        <div class=\"tags\">\\n            Tags:\\n            <meta class=\"keywords\" itemprop=\"keywords\" content=\"inspirational,life,live,miracle,miracles\" \/    > \\n            \\n            <a class=\"tag\" href=\"\/tag\/inspirational\/page\/1\/\">inspirational<\/a>\\n            \\n            <a class=\"tag\" href=\"\/tag\/life\/page\/1\/\">life<\/a>\\n            \\n            <a class=\"tag\" href=\"\/tag\/live\/page\/1\/\">live<\/a>\\n            \\n            <a class=\"tag\" href=\"\/tag\/miracle\/page\/1\/\">miracle<\/a>\\n            \\n            <a class=\"tag\" href=\"\/tag\/miracles\/page\/1\/\">miracles<\/a>\\n            \\n        <\/div>\\n    <\/div>\\n\\n    <div class=\"quote\" itemscope itemtype=\"http:\/\/schema.org\/CreativeWork\">\\n        <span class=\"text\" itemprop=\"text\">“The person, be it gentleman or lady, who has not pleasure in a good novel, must be intolerably stupid.”<\/span>\\n        <span>by <small class=\"author\" itemprop=\"author\">Jane Austen<\/small>\\n        <a href=\"\/author\/Jane-Austen\">(about)<\/a>\\n        <\/span>\\n        <div class=\"tags\">\\n            Tags:\\n            <meta class=\"keywords\" itemprop=\"keywords\" content=\"aliteracy,books,classic,humor\" \/    > \\n            \\n            <a class=\"tag\" href=\"\/tag\/aliteracy\/page\/1\/\">aliteracy<\/a>\\n            \\n            <a class=\"tag\" href=\"\/tag\/books\/page\/1\/\">books<\/a>\\n            \\n            <a class=\"tag\" href=\"\/tag\/classic\/page\/1\/\">classic<\/a>\\n            \\n            <a class=\"tag\" href=\"\/tag\/humor\/page\/1\/\">humor<\/a>\\n            \\n        <\/div>\\n    <\/div>\\n\\n    <div class=\"quote\" itemscope itemtype=\"http:\/\/schema.org\/CreativeWork\">\\n        <span class=\"text\" itemprop=\"text\">“Imperfection is beauty, madness is genius and it&#39;s better to be absolutely ridiculous than absolutely boring.”<\/span>\\n        <span>by <small class=\"author\" itemprop=\"author\">Marilyn Monroe<\/small>\\n        <a href=\"\/author\/Marilyn-Monroe\">(about)<\/a>\\n        <\/span>\\n        <div class=\"tags\">\\n            Tags:\\n            <meta class=\"keywords\" itemprop=\"keywords\" content=\"be-yourself,inspirational\" \/    > \\n            \\n            <a class=\"tag\" href=\"\/tag\/be-yourself\/page\/1\/\">be-yourself<\/a>\\n            \\n            <a class=\"tag\" href=\"\/tag\/inspirational\/page\/1\/\">inspirational<\/a>\\n            \\n        <\/div>\\n    <\/div>\\n\\n    <div class=\"quote\" itemscope itemtype=\"http:\/\/schema.org\/CreativeWork\">\\n        <span class=\"text\" itemprop=\"text\">“Try not to become a man of success. Rather become a man of value.”<\/span>\\n        <span>by <small class=\"author\" itemprop=\"author\">Albert Einstein<\/small>\\n        <a href=\"\/author\/Albert-Einstein\">(about)<\/a>\\n        <\/span>\\n        <div class=\"tags\">\\n            Tags:\\n            <meta class=\"keywords\" itemprop=\"keywords\" content=\"adulthood,success,value\" \/    > \\n            \\n            <a class=\"tag\" href=\"\/tag\/adulthood\/page\/1\/\">adulthood<\/a>\\n            \\n            <a class=\"tag\" href=\"\/tag\/success\/page\/1\/\">success<\/a>\\n            \\n            <a class=\"tag\" href=\"\/tag\/value\/page\/1\/\">value<\/a>\\n            \\n        <\/div>\\n    <\/div>\\n\\n    <div class=\"quote\" itemscope itemtype=\"http:\/\/schema.org\/CreativeWork\">\\n        <span class=\"text\" itemprop=\"text\">“It is better to be hated for what you are than to be loved for what you are not.”<\/span>\\n        <span>by <small class=\"author\" itemprop=\"author\">André Gide<\/small>\\n        <a href=\"\/author\/Andre-Gide\">(about)<\/a>\\n        <\/span>\\n        <div class=\"tags\">\\n            Tags:\\n            <meta class=\"keywords\" itemprop=\"keywords\" content=\"life,love\" \/    > \\n            \\n            <a class=\"tag\" href=\"\/tag\/life\/page\/1\/\">life<\/a>\\n            \\n            <a class=\"tag\" href=\"\/tag\/love\/page\/1\/\">love<\/a>\\n            \\n        <\/div>\\n    <\/div>\\n\\n    <div class=\"quote\" itemscope itemtype=\"http:\/\/schema.org\/CreativeWork\">\\n        <span class=\"text\" itemprop=\"text\">“I have not failed. I&#39;ve just found 10,000 ways that won&#39;t work.”<\/span>\\n        <span>by <small class=\"author\" itemprop=\"author\">Thomas A. Edison<\/small>\\n        <a href=\"\/author\/Thomas-A-Edison\">(about)<\/a>\\n        <\/span>\\n        <div class=\"tags\">\\n            Tags:\\n            <meta class=\"keywords\" itemprop=\"keywords\" content=\"edison,failure,inspirational,paraphrased\" \/    > \\n            \\n            <a class=\"tag\" href=\"\/tag\/edison\/page\/1\/\">edison<\/a>\\n            \\n            <a class=\"tag\" href=\"\/tag\/failure\/page\/1\/\">failure<\/a>\\n            \\n            <a class=\"tag\" href=\"\/tag\/inspirational\/page\/1\/\">inspirational<\/a>\\n            \\n            <a class=\"tag\" href=\"\/tag\/paraphrased\/page\/1\/\">paraphrased<\/a>\\n            \\n        <\/div>\\n    <\/div>\\n\\n    <div class=\"quote\" itemscope itemtype=\"http:\/\/schema.org\/CreativeWork\">\\n        <span class=\"text\" itemprop=\"text\">“A woman is like a tea bag; you never know how strong it is until it&#39;s in hot water.”<\/span>\\n        <span>by <small class=\"author\" itemprop=\"author\">Eleanor Roosevelt<\/small>\\n        <a href=\"\/author\/Eleanor-Roosevelt\">(about)<\/a>\\n        <\/span>\\n        <div class=\"tags\">\\n            Tags:\\n            <meta class=\"keywords\" itemprop=\"keywords\" content=\"misattributed-eleanor-roosevelt\" \/    > \\n            \\n            <a class=\"tag\" href=\"\/tag\/misattributed-eleanor-roosevelt\/page\/1\/\">misattributed-eleanor-roosevelt<\/a>\\n            \\n        <\/div>\\n    <\/div>\\n\\n    <div class=\"quote\" itemscope itemtype=\"http:\/\/schema.org\/CreativeWork\">\\n        <span class=\"text\" itemprop=\"text\">“A day without sunshine is like, you know, night.”<\/span>\\n        <span>by <small class=\"author\" itemprop=\"author\">Steve Martin<\/small>\\n        <a href=\"\/author\/Steve-Martin\">(about)<\/a>\\n        <\/span>\\n        <div class=\"tags\">\\n            Tags:\\n            <meta class=\"keywords\" itemprop=\"keywords\" content=\"humor,obvious,simile\" \/    > \\n            \\n            <a class=\"tag\" href=\"\/tag\/humor\/page\/1\/\">humor<\/a>\\n            \\n            <a class=\"tag\" href=\"\/tag\/obvious\/page\/1\/\">obvious<\/a>\\n            \\n            <a class=\"tag\" href=\"\/tag\/simile\/page\/1\/\">simile<\/a>\\n            \\n        <\/div>\\n    <\/div>\\n\\n    <nav>\\n        <ul class=\"pager\">\\n            \\n            \\n            <li class=\"next\">\\n                <a href=\"\/page\/2\/\">Next <span aria-hidden=\"true\">&rarr;<\/span><\/a>\\n            <\/li>\\n            \\n        <\/ul>\\n    <\/nav>\\n    <\/div>\\n    <div class=\"col-md-4 tags-box\">\\n        \\n            <h2>Top Ten tags<\/h2>\\n            \\n            <span class=\"tag-item\">\\n            <a class=\"tag\" style=\"font-size: 28px\" href=\"\/tag\/love\/\">love<\/a>\\n            <\/span>\\n            \\n            <span class=\"tag-item\">\\n            <a class=\"tag\" style=\"font-size: 26px\" href=\"\/tag\/inspirational\/\">inspirational<\/a>\\n            <\/span>\\n            \\n            <span class=\"tag-item\">\\n            <a class=\"tag\" style=\"font-size: 26px\" href=\"\/tag\/life\/\">life<\/a>\\n            <\/span>\\n            \\n            <span class=\"tag-item\">\\n            <a class=\"tag\" style=\"font-size: 24px\" href=\"\/tag\/humor\/\">humor<\/a>\\n            <\/span>\\n            \\n            <span class=\"tag-item\">\\n            <a class=\"tag\" style=\"font-size: 22px\" href=\"\/tag\/books\/\">books<\/a>\\n            <\/span>\\n            \\n            <span class=\"tag-item\">\\n            <a class=\"tag\" style=\"font-size: 14px\" href=\"\/tag\/reading\/\">reading<\/a>\\n            <\/span>\\n            \\n            <span class=\"tag-item\">\\n            <a class=\"tag\" style=\"font-size: 10px\" href=\"\/tag\/friendship\/\">friendship<\/a>\\n            <\/span>\\n            \\n            <span class=\"tag-item\">\\n            <a class=\"tag\" style=\"font-size: 8px\" href=\"\/tag\/friends\/\">friends<\/a>\\n            <\/span>\\n            \\n            <span class=\"tag-item\">\\n            <a class=\"tag\" style=\"font-size: 8px\" href=\"\/tag\/truth\/\">truth<\/a>\\n            <\/span>\\n            \\n            <span class=\"tag-item\">\\n            <a class=\"tag\" style=\"font-size: 6px\" href=\"\/tag\/simile\/\">simile<\/a>\\n            <\/span>\\n            \\n        \\n    <\/div>\\n<\/div>\\n\\n    <\/div>\\n    <footer class=\"footer\">\\n        <div class=\"container\">\\n            <p class=\"text-muted\">\\n                Quotes by: <a href=\"https:\/\/www.goodreads.com\/quotes\">GoodReads.com<\/a>\\n            <\/p>\\n            <p class=\"copyright\">\\n                Made with <span class=\\'sh-red\\'>❤<\/span> by <a href=\"https:\/\/scrapinghub.com\">Scrapinghub<\/a>\\n            <\/p>\\n        <\/div>\\n    <\/footer>\\n<\/body>\\n<\/html>'"
      ]
     },
     "metadata":{
      
     },
     "output_type":"display_data"
    }
   ],
   "metadata":{
    "datalore":{
     "node_id":"sR7hkLkMpWmng5iqgZ2xPG",
     "type":"CODE",
     "hide_input_from_viewers":false,
     "hide_output_from_viewers":false
    }
   }
  },
  {
   "cell_type":"code",
   "source":[
    "resp.headers"
   ],
   "execution_count":11,
   "outputs":[
    {
     "data":{
      "text\/plain":[
       "{'Date': 'Thu, 02 Feb 2023 02:00:51 GMT', 'Content-Type': 'text\/html; charset=utf-8', 'Content-Length': '11053', 'Connection': 'keep-alive'}"
      ]
     },
     "metadata":{
      
     },
     "output_type":"display_data"
    }
   ],
   "metadata":{
    "datalore":{
     "node_id":"7jfxaeu6qWbqBsjT0rGLnD",
     "type":"CODE",
     "hide_input_from_viewers":false,
     "hide_output_from_viewers":false
    }
   }
  },
  {
   "cell_type":"markdown",
   "source":[
    "# Requests"
   ],
   "attachments":{
    
   },
   "metadata":{
    "datalore":{
     "node_id":"HcxK18MFFa6OdPtPIdvgZp",
     "type":"MD",
     "hide_input_from_viewers":false,
     "hide_output_from_viewers":false
    }
   }
  },
  {
   "cell_type":"code",
   "source":[
    "import requests\n",
    "\n",
    "url = \"http:\/\/quotes.toscrape.com\/\"\n",
    "\n",
    "resp = requests.get(url)"
   ],
   "execution_count":13,
   "outputs":[
    
   ],
   "metadata":{
    "datalore":{
     "node_id":"aGjSBHRuelXoirOtzIkaUl",
     "type":"CODE",
     "hide_input_from_viewers":false,
     "hide_output_from_viewers":false
    }
   }
  },
  {
   "cell_type":"code",
   "source":[
    "type(resp)"
   ],
   "execution_count":15,
   "outputs":[
    {
     "data":{
      "text\/plain":[
       "requests.models.Response"
      ]
     },
     "metadata":{
      
     },
     "output_type":"display_data"
    }
   ],
   "metadata":{
    "datalore":{
     "node_id":"m8psWkxhz0kSRiWkgg2lit",
     "type":"CODE",
     "hide_input_from_viewers":false,
     "hide_output_from_viewers":false
    }
   }
  },
  {
   "cell_type":"code",
   "source":[
    "resp.headers"
   ],
   "execution_count":16,
   "outputs":[
    {
     "data":{
      "text\/plain":[
       "{'Date': 'Thu, 02 Feb 2023 02:25:16 GMT', 'Content-Type': 'text\/html; charset=utf-8', 'Content-Length': '11053', 'Connection': 'keep-alive'}"
      ]
     },
     "metadata":{
      
     },
     "output_type":"display_data"
    }
   ],
   "metadata":{
    "datalore":{
     "node_id":"FRND0XrvLw26K5BRtyxd5n",
     "type":"CODE",
     "hide_input_from_viewers":false,
     "hide_output_from_viewers":false
    }
   }
  },
  {
   "cell_type":"code",
   "source":[
    "resp.headers['Content-Type']"
   ],
   "execution_count":17,
   "outputs":[
    {
     "data":{
      "text\/plain":[
       "'text\/html; charset=utf-8'"
      ]
     },
     "metadata":{
      
     },
     "output_type":"display_data"
    }
   ],
   "metadata":{
    "datalore":{
     "node_id":"TaQV7SlCSnB7HZOsWhRni6",
     "type":"CODE",
     "hide_input_from_viewers":false,
     "hide_output_from_viewers":false
    }
   }
  },
  {
   "cell_type":"code",
   "source":[
    "resp.headers['coNTEnt-type']"
   ],
   "execution_count":18,
   "outputs":[
    {
     "data":{
      "text\/plain":[
       "'text\/html; charset=utf-8'"
      ]
     },
     "metadata":{
      
     },
     "output_type":"display_data"
    }
   ],
   "metadata":{
    "datalore":{
     "node_id":"0jhwMLx5LAkxjDmDEpsFjq",
     "type":"CODE",
     "hide_input_from_viewers":false,
     "hide_output_from_viewers":false
    }
   }
  },
  {
   "cell_type":"code",
   "source":[
    "resp = requests.get(url, headers={\"User-Agent\": \"Mozilla\/5.0\"})"
   ],
   "execution_count":19,
   "outputs":[
    
   ],
   "metadata":{
    "datalore":{
     "node_id":"raEDWOX6PnqpKvx6EyPyrf",
     "type":"CODE",
     "hide_input_from_viewers":false,
     "hide_output_from_viewers":false
    }
   }
  },
  {
   "cell_type":"code",
   "source":[
    "resp = requests.get(\"https:\/\/httpbin.org\/headers\")"
   ],
   "execution_count":20,
   "outputs":[
    
   ],
   "metadata":{
    "datalore":{
     "node_id":"sm85w5goOMha8JsCLpRG5H",
     "type":"CODE",
     "hide_input_from_viewers":false,
     "hide_output_from_viewers":false
    }
   }
  },
  {
   "cell_type":"code",
   "source":[
    "resp"
   ],
   "execution_count":21,
   "outputs":[
    {
     "data":{
      "text\/plain":[
       "<Response [200]>"
      ]
     },
     "metadata":{
      
     },
     "output_type":"display_data"
    }
   ],
   "metadata":{
    "datalore":{
     "node_id":"YrJv7t0gRFZW5klHTuGmkM",
     "type":"CODE",
     "hide_input_from_viewers":false,
     "hide_output_from_viewers":false
    }
   }
  },
  {
   "cell_type":"code",
   "source":[
    "resp.json()"
   ],
   "execution_count":22,
   "outputs":[
    {
     "data":{
      "text\/plain":[
       "{'headers': {'Accept': '*\/*',\n",
       "  'Accept-Encoding': 'gzip, deflate',\n",
       "  'Host': 'httpbin.org',\n",
       "  'User-Agent': 'python-requests\/2.28.2',\n",
       "  'X-Amzn-Trace-Id': 'Root=1-63db204e-6dc995e40c0ffc36608b96e2'}}"
      ]
     },
     "metadata":{
      
     },
     "output_type":"display_data"
    }
   ],
   "metadata":{
    "datalore":{
     "node_id":"cEZf2klQVtjXWbfhsRkE5G",
     "type":"CODE",
     "hide_input_from_viewers":false,
     "hide_output_from_viewers":false
    }
   }
  },
  {
   "cell_type":"code",
   "source":[
    "dict(resp.request.headers)"
   ],
   "execution_count":25,
   "outputs":[
    {
     "data":{
      "text\/plain":[
       "{'User-Agent': 'python-requests\/2.28.2',\n",
       " 'Accept-Encoding': 'gzip, deflate',\n",
       " 'Accept': '*\/*',\n",
       " 'Connection': 'keep-alive'}"
      ]
     },
     "metadata":{
      
     },
     "output_type":"display_data"
    }
   ],
   "metadata":{
    "datalore":{
     "node_id":"zIxe1rzmf3vVCtNStJKviZ",
     "type":"CODE",
     "hide_input_from_viewers":false,
     "hide_output_from_viewers":false
    }
   }
  },
  {
   "cell_type":"markdown",
   "source":[
    "# Query Parameters"
   ],
   "attachments":{
    
   },
   "metadata":{
    "datalore":{
     "node_id":"72SWa7kSmxlOMDkYqpTetM",
     "type":"MD",
     "hide_input_from_viewers":false,
     "hide_output_from_viewers":false
    }
   }
  },
  {
   "cell_type":"code",
   "source":[
    "# books.com?author=JKRowling&title=Harry%20Potter%27s&price=10"
   ],
   "execution_count":null,
   "outputs":[
    
   ],
   "metadata":{
    "datalore":{
     "node_id":"BtDhWGPxOVGXpCDLJxZM06",
     "type":"CODE",
     "hide_input_from_viewers":false,
     "hide_output_from_viewers":false
    }
   }
  },
  {
   "cell_type":"code",
   "source":[
    "url = \"https:\/\/api.coinbase.com\/v2\/exchange-rates?currency=BTC\""
   ],
   "execution_count":94,
   "outputs":[
    
   ],
   "metadata":{
    "datalore":{
     "node_id":"iG0t4HlzieN1A2BuIaIFT1",
     "type":"CODE",
     "hide_input_from_viewers":false,
     "hide_output_from_viewers":false
    }
   }
  },
  {
   "cell_type":"code",
   "source":[
    "import requests as r"
   ],
   "execution_count":97,
   "outputs":[
    
   ],
   "metadata":{
    "datalore":{
     "node_id":"tLG2rGYyTCcksaXQwTg5GM",
     "type":"CODE",
     "hide_input_from_viewers":false,
     "hide_output_from_viewers":false
    }
   }
  },
  {
   "cell_type":"code",
   "source":[
    "resp = r.get(url)"
   ],
   "execution_count":99,
   "outputs":[
    
   ],
   "metadata":{
    "datalore":{
     "node_id":"BYzGZCaeRQz4R1aK4ybPuy",
     "type":"CODE",
     "hide_input_from_viewers":false,
     "hide_output_from_viewers":false
    }
   }
  },
  {
   "cell_type":"code",
   "source":[
    "resp.json()['data']['rates']['USD']"
   ],
   "execution_count":101,
   "outputs":[
    {
     "data":{
      "text\/plain":[
       "'23455.545'"
      ]
     },
     "metadata":{
      
     },
     "output_type":"display_data"
    }
   ],
   "metadata":{
    "datalore":{
     "node_id":"yThthl3zlbpDFg2xSF6zfq",
     "type":"CODE",
     "hide_input_from_viewers":false,
     "hide_output_from_viewers":false
    }
   }
  },
  {
   "cell_type":"code",
   "source":[
    "url = \"https:\/\/api.coinbase.com\/v2\/exchange-rates\""
   ],
   "execution_count":102,
   "outputs":[
    
   ],
   "metadata":{
    "datalore":{
     "node_id":"dVPSD5386G8wGFxjvltuAC",
     "type":"CODE",
     "hide_input_from_viewers":false,
     "hide_output_from_viewers":false
    }
   }
  },
  {
   "cell_type":"code",
   "source":[
    "params = { \"currency\": \"BTC\" }"
   ],
   "execution_count":103,
   "outputs":[
    
   ],
   "metadata":{
    "datalore":{
     "node_id":"qu0LQsyHXo9H4Yr0JGEsLC",
     "type":"CODE",
     "hide_input_from_viewers":false,
     "hide_output_from_viewers":false
    }
   }
  },
  {
   "cell_type":"code",
   "source":[
    "resp = r.get(url, params=params)"
   ],
   "execution_count":104,
   "outputs":[
    
   ],
   "metadata":{
    "datalore":{
     "node_id":"eIt0otv6wUFdc4OroAMXAD",
     "type":"CODE",
     "hide_input_from_viewers":false,
     "hide_output_from_viewers":false
    }
   }
  },
  {
   "cell_type":"code",
   "source":[
    "resp.json()['data']['rates']['USD']"
   ],
   "execution_count":105,
   "outputs":[
    {
     "data":{
      "text\/plain":[
       "'23437.2'"
      ]
     },
     "metadata":{
      
     },
     "output_type":"display_data"
    }
   ],
   "metadata":{
    "datalore":{
     "node_id":"bUC1gnvqqFe8ORSEILl4BR",
     "type":"CODE",
     "hide_input_from_viewers":false,
     "hide_output_from_viewers":false
    }
   }
  },
  {
   "cell_type":"code",
   "source":[
    "url = \"https:\/\/api.sunrisesunset.io\/json\""
   ],
   "execution_count":106,
   "outputs":[
    
   ],
   "metadata":{
    "datalore":{
     "node_id":"lkQNKe7B3o65WiqKbhFOA4",
     "type":"CODE",
     "hide_input_from_viewers":false,
     "hide_output_from_viewers":false
    }
   }
  },
  {
   "cell_type":"code",
   "source":[
    "params = {\n",
    "    \"lat\": 43.6532,\n",
    "    \"lng\": -79.3832,\n",
    "    \"timezone\": \"EST\",\n",
    "    \"date\": \"today\"\n",
    "}"
   ],
   "execution_count":107,
   "outputs":[
    
   ],
   "metadata":{
    "datalore":{
     "node_id":"8FXzOQ5iLnquWu3kS7PQf6",
     "type":"CODE",
     "hide_input_from_viewers":false,
     "hide_output_from_viewers":false
    }
   }
  },
  {
   "cell_type":"code",
   "source":[
    "headers = {\n",
    "    \"User-Agent\": \"Mozilla\/5.0 (Macintosh; Intel Mac OS X 10.15; rv:108.0) Gecko\/20100101 Firefox\/108.0\"\n",
    "}"
   ],
   "execution_count":113,
   "outputs":[
    
   ],
   "metadata":{
    "datalore":{
     "node_id":"1xBAATJsybiQZ66apShLIF",
     "type":"CODE",
     "hide_input_from_viewers":false,
     "hide_output_from_viewers":false
    }
   }
  },
  {
   "cell_type":"code",
   "source":[
    "resp = r.get(url, params=params, headers=headers)"
   ],
   "execution_count":114,
   "outputs":[
    
   ],
   "metadata":{
    "datalore":{
     "node_id":"JfkU0ZFtCCP54Bv8a1FTIC",
     "type":"CODE",
     "hide_input_from_viewers":false,
     "hide_output_from_viewers":false
    }
   }
  },
  {
   "cell_type":"code",
   "source":[
    "resp.status_code"
   ],
   "execution_count":115,
   "outputs":[
    {
     "data":{
      "text\/plain":[
       "200"
      ]
     },
     "metadata":{
      
     },
     "output_type":"display_data"
    }
   ],
   "metadata":{
    "datalore":{
     "node_id":"TQU4pHWIeBD3Fev81ZoxTM",
     "type":"CODE",
     "hide_input_from_viewers":false,
     "hide_output_from_viewers":false
    }
   }
  },
  {
   "cell_type":"code",
   "source":[
    "resp.json()"
   ],
   "execution_count":116,
   "outputs":[
    {
     "data":{
      "text\/plain":[
       "{'results': {'sunrise': '7:33:33 AM',\n",
       "  'sunset': '5:31:40 PM',\n",
       "  'first_light': '5:55:21 AM',\n",
       "  'last_light': '7:09:52 PM',\n",
       "  'dawn': '7:03:11 AM',\n",
       "  'dusk': '6:02:02 PM',\n",
       "  'solar_noon': '12:32:37 PM',\n",
       "  'golden_hour': '4:49:36 PM',\n",
       "  'day_length': '9:58:07',\n",
       "  'timezone': 'EST'},\n",
       " 'status': 'OK'}"
      ]
     },
     "metadata":{
      
     },
     "output_type":"display_data"
    }
   ],
   "metadata":{
    "datalore":{
     "node_id":"xYzLdQZPUFDjxvLrnku0yQ",
     "type":"CODE",
     "hide_input_from_viewers":false,
     "hide_output_from_viewers":false
    }
   }
  },
  {
   "cell_type":"markdown",
   "source":[
    "# Authentication And Authorization"
   ],
   "attachments":{
    
   },
   "metadata":{
    "datalore":{
     "node_id":"zHjE80qFtrjq9PBiGSlbpL",
     "type":"MD",
     "hide_input_from_viewers":false,
     "hide_output_from_viewers":false
    }
   }
  },
  {
   "cell_type":"markdown",
   "source":[
    "> ## authentication:  who we are\n",
    "\n",
    "> ## authorization :  what we can do, given who we are"
   ],
   "attachments":{
    
   },
   "metadata":{
    "datalore":{
     "node_id":"VygM6sM7WWT8KX7tJhRjHm",
     "type":"MD",
     "hide_input_from_viewers":false,
     "hide_output_from_viewers":false
    }
   }
  },
  {
   "cell_type":"code",
   "source":[
    "API_KEY = \"YOUR_API_KEY_HERE\""
   ],
   "execution_count":134,
   "outputs":[
    
   ],
   "metadata":{
    "datalore":{
     "node_id":"GjkJrFZZOZahqyF9obMZV6",
     "type":"CODE",
     "hide_input_from_viewers":false,
     "hide_output_from_viewers":false
    }
   }
  },
  {
   "cell_type":"code",
   "source":[
    "url = \"https:\/\/api.exchange.coinbase.com\/fills\""
   ],
   "execution_count":135,
   "outputs":[
    
   ],
   "metadata":{
    "datalore":{
     "node_id":"gPhS0D3fxzXFbdWDyyhMIB",
     "type":"CODE",
     "hide_input_from_viewers":false,
     "hide_output_from_viewers":false
    }
   }
  },
  {
   "cell_type":"code",
   "source":[
    "headers = {\n",
    "    \"Authorization\": f\"Bearer {API_KEY}\",\n",
    "    \"Content-Type\": \"application\/json\"\n",
    "}"
   ],
   "execution_count":136,
   "outputs":[
    
   ],
   "metadata":{
    "datalore":{
     "node_id":"7hkK0g0JdZxTuszthQjdxE",
     "type":"CODE",
     "hide_input_from_viewers":false,
     "hide_output_from_viewers":false
    }
   }
  },
  {
   "cell_type":"code",
   "source":[
    "r.get(url, headers=headers)"
   ],
   "execution_count":137,
   "outputs":[
    {
     "data":{
      "text\/plain":[
       "<Response [401]>"
      ]
     },
     "metadata":{
      
     },
     "output_type":"display_data"
    }
   ],
   "metadata":{
    "datalore":{
     "node_id":"GrMbwrw2BxPDNJ6FoiYoZ0",
     "type":"CODE",
     "hide_input_from_viewers":false,
     "hide_output_from_viewers":false
    }
   }
  },
  {
   "cell_type":"code",
   "source":[
    "# basic auth -> username, password"
   ],
   "execution_count":138,
   "outputs":[
    
   ],
   "metadata":{
    "datalore":{
     "node_id":"RjSWnkZ1fResFVmZx2MTZS",
     "type":"CODE",
     "hide_input_from_viewers":false,
     "hide_output_from_viewers":false
    }
   }
  },
  {
   "cell_type":"code",
   "source":[
    "auth = (\"user1\", \"pass22\")"
   ],
   "execution_count":142,
   "outputs":[
    
   ],
   "metadata":{
    "datalore":{
     "node_id":"CQLl2JlzRw8VwVw8bFL5Up",
     "type":"CODE",
     "hide_input_from_viewers":false,
     "hide_output_from_viewers":false
    }
   }
  },
  {
   "cell_type":"code",
   "source":[
    "url = \"https:\/\/www.httpbin.org\/basic-auth\/user1\/pass2\""
   ],
   "execution_count":143,
   "outputs":[
    
   ],
   "metadata":{
    "datalore":{
     "node_id":"rFSoyG0JZkNgqynpNgQcGg",
     "type":"CODE",
     "hide_input_from_viewers":false,
     "hide_output_from_viewers":false
    }
   }
  },
  {
   "cell_type":"code",
   "source":[
    "r.get(url, auth=auth)"
   ],
   "execution_count":144,
   "outputs":[
    {
     "data":{
      "text\/plain":[
       "<Response [401]>"
      ]
     },
     "metadata":{
      
     },
     "output_type":"display_data"
    }
   ],
   "metadata":{
    "datalore":{
     "node_id":"6JvibncuMz4AYWQzo3LvT9",
     "type":"CODE",
     "hide_input_from_viewers":false,
     "hide_output_from_viewers":false
    }
   }
  },
  {
   "cell_type":"code",
   "source":[
    "# OAuth"
   ],
   "execution_count":null,
   "outputs":[
    
   ],
   "metadata":{
    "datalore":{
     "node_id":"zuzltWyxCQ2fNl8IdAQCz2",
     "type":"CODE",
     "hide_input_from_viewers":false,
     "hide_output_from_viewers":false
    }
   }
  },
  {
   "cell_type":"markdown",
   "source":[
    "# Aside From GET"
   ],
   "attachments":{
    
   },
   "metadata":{
    "datalore":{
     "node_id":"W5PUyhSMklXPq8YRJELarT",
     "type":"MD",
     "hide_input_from_viewers":false,
     "hide_output_from_viewers":false
    }
   }
  },
  {
   "cell_type":"code",
   "source":[
    "# HTTPBin"
   ],
   "execution_count":null,
   "outputs":[
    
   ],
   "metadata":{
    "datalore":{
     "node_id":"evmmQegQ7Ipvjh0V1UZdOf",
     "type":"CODE",
     "hide_input_from_viewers":false,
     "hide_output_from_viewers":false
    }
   }
  },
  {
   "cell_type":"code",
   "source":[
    "import requests as r"
   ],
   "execution_count":145,
   "outputs":[
    
   ],
   "metadata":{
    "datalore":{
     "node_id":"8gWUwGHKR62yTXDKlG4LY1",
     "type":"CODE",
     "hide_input_from_viewers":false,
     "hide_output_from_viewers":false
    }
   }
  },
  {
   "cell_type":"code",
   "source":[
    "r.delete(\"https:\/\/www.httpbin.org\/delete\").json()"
   ],
   "execution_count":147,
   "outputs":[
    {
     "data":{
      "text\/plain":[
       "{'args': {},\n",
       " 'data': '',\n",
       " 'files': {},\n",
       " 'form': {},\n",
       " 'headers': {'Accept': '*\/*',\n",
       "  'Accept-Encoding': 'gzip, deflate',\n",
       "  'Content-Length': '0',\n",
       "  'Host': 'www.httpbin.org',\n",
       "  'User-Agent': 'python-requests\/2.26.0',\n",
       "  'X-Amzn-Trace-Id': 'Root=1-63de821e-065638c2108a53e57318a947'},\n",
       " 'json': None,\n",
       " 'origin': '34.241.35.66',\n",
       " 'url': 'https:\/\/www.httpbin.org\/delete'}"
      ]
     },
     "metadata":{
      
     },
     "output_type":"display_data"
    }
   ],
   "metadata":{
    "datalore":{
     "node_id":"p6GeQjz5ig5uvXdMFx8o1n",
     "type":"CODE",
     "hide_input_from_viewers":false,
     "hide_output_from_viewers":false
    }
   }
  },
  {
   "cell_type":"code",
   "source":[
    "r.patch(\"https:\/\/www.httpbin.org\/patch\").json()"
   ],
   "execution_count":149,
   "outputs":[
    {
     "data":{
      "text\/plain":[
       "{'args': {},\n",
       " 'data': '',\n",
       " 'files': {},\n",
       " 'form': {},\n",
       " 'headers': {'Accept': '*\/*',\n",
       "  'Accept-Encoding': 'gzip, deflate',\n",
       "  'Content-Length': '0',\n",
       "  'Host': 'www.httpbin.org',\n",
       "  'User-Agent': 'python-requests\/2.26.0',\n",
       "  'X-Amzn-Trace-Id': 'Root=1-63de8260-62d1bb5945b55a655cc8e31a'},\n",
       " 'json': None,\n",
       " 'origin': '34.241.35.66',\n",
       " 'url': 'https:\/\/www.httpbin.org\/patch'}"
      ]
     },
     "metadata":{
      
     },
     "output_type":"display_data"
    }
   ],
   "metadata":{
    "datalore":{
     "node_id":"G4AbdH8ng04ERbseFYMdwf",
     "type":"CODE",
     "hide_input_from_viewers":false,
     "hide_output_from_viewers":false
    }
   }
  },
  {
   "cell_type":"code",
   "source":[
    "r.put(\"https:\/\/www.httpbin.org\/put\").json()"
   ],
   "execution_count":151,
   "outputs":[
    {
     "data":{
      "text\/plain":[
       "{'args': {},\n",
       " 'data': '',\n",
       " 'files': {},\n",
       " 'form': {},\n",
       " 'headers': {'Accept': '*\/*',\n",
       "  'Accept-Encoding': 'gzip, deflate',\n",
       "  'Content-Length': '0',\n",
       "  'Host': 'www.httpbin.org',\n",
       "  'User-Agent': 'python-requests\/2.26.0',\n",
       "  'X-Amzn-Trace-Id': 'Root=1-63de826e-597afb8b273138485c4023ad'},\n",
       " 'json': None,\n",
       " 'origin': '34.241.35.66',\n",
       " 'url': 'https:\/\/www.httpbin.org\/put'}"
      ]
     },
     "metadata":{
      
     },
     "output_type":"display_data"
    }
   ],
   "metadata":{
    "datalore":{
     "node_id":"0QdDqdFJ2s0LRh0h7H5Xlf",
     "type":"CODE",
     "hide_input_from_viewers":false,
     "hide_output_from_viewers":false
    }
   }
  },
  {
   "cell_type":"code",
   "source":[
    "r.post(\"https:\/\/www.httpbin.org\/post\").json()"
   ],
   "execution_count":152,
   "outputs":[
    {
     "data":{
      "text\/plain":[
       "{'args': {},\n",
       " 'data': '',\n",
       " 'files': {},\n",
       " 'form': {},\n",
       " 'headers': {'Accept': '*\/*',\n",
       "  'Accept-Encoding': 'gzip, deflate',\n",
       "  'Content-Length': '0',\n",
       "  'Host': 'www.httpbin.org',\n",
       "  'User-Agent': 'python-requests\/2.26.0',\n",
       "  'X-Amzn-Trace-Id': 'Root=1-63de8276-7455b23e294351d67ab0ed0e'},\n",
       " 'json': None,\n",
       " 'origin': '34.241.35.66',\n",
       " 'url': 'https:\/\/www.httpbin.org\/post'}"
      ]
     },
     "metadata":{
      
     },
     "output_type":"display_data"
    }
   ],
   "metadata":{
    "datalore":{
     "node_id":"3BeVK12Pu1UnYfsPDrMxeg",
     "type":"CODE",
     "hide_input_from_viewers":false,
     "hide_output_from_viewers":false
    }
   }
  },
  {
   "cell_type":"code",
   "source":[
    "# HEAD\n",
    "# OPTIONS"
   ],
   "execution_count":153,
   "outputs":[
    
   ],
   "metadata":{
    "datalore":{
     "node_id":"zM2tfq2VE8bm77qwDFQNim",
     "type":"CODE",
     "hide_input_from_viewers":false,
     "hide_output_from_viewers":false
    }
   }
  },
  {
   "cell_type":"markdown",
   "source":[
    "# POSTing Data"
   ],
   "attachments":{
    
   },
   "metadata":{
    "datalore":{
     "node_id":"jB2LQfshwRunnDVRlHRL7y",
     "type":"MD",
     "hide_input_from_viewers":false,
     "hide_output_from_viewers":false
    }
   }
  },
  {
   "cell_type":"code",
   "source":[
    "# client sends data to server via:\n",
    "    \n",
    "    # - headers\n",
    "    # - query params\n",
    "    # - body"
   ],
   "execution_count":154,
   "outputs":[
    
   ],
   "metadata":{
    "datalore":{
     "node_id":"KU1wuYubld6zAQaA7iXsVX",
     "type":"CODE",
     "hide_input_from_viewers":false,
     "hide_output_from_viewers":false
    }
   }
  },
  {
   "cell_type":"code",
   "source":[
    "resp = r.post(\"https:\/\/www.httpbin.org\/post\", data={\"key1\": \"value1\"})\n",
    "resp.json()"
   ],
   "execution_count":156,
   "outputs":[
    {
     "data":{
      "text\/plain":[
       "{'args': {},\n",
       " 'data': '',\n",
       " 'files': {},\n",
       " 'form': {'key1': 'value1'},\n",
       " 'headers': {'Accept': '*\/*',\n",
       "  'Accept-Encoding': 'gzip, deflate',\n",
       "  'Content-Length': '11',\n",
       "  'Content-Type': 'application\/x-www-form-urlencoded',\n",
       "  'Host': 'www.httpbin.org',\n",
       "  'User-Agent': 'python-requests\/2.26.0',\n",
       "  'X-Amzn-Trace-Id': 'Root=1-63de8501-45ea6e7c46c6dbda21251278'},\n",
       " 'json': None,\n",
       " 'origin': '34.241.35.66',\n",
       " 'url': 'https:\/\/www.httpbin.org\/post'}"
      ]
     },
     "metadata":{
      
     },
     "output_type":"display_data"
    }
   ],
   "metadata":{
    "datalore":{
     "node_id":"Th4RdAQhy99KiyLwveLRGh",
     "type":"CODE",
     "hide_input_from_viewers":false,
     "hide_output_from_viewers":false
    }
   }
  },
  {
   "cell_type":"code",
   "source":[
    "resp = r.post(\"https:\/\/www.httpbin.org\/post\", \n",
    "              data={\n",
    "                  \"key1\": \"value1\",\n",
    "                  \"key2\": \"a value with spaces and an apostrophe '\"\n",
    "              })\n",
    "resp.json()"
   ],
   "execution_count":158,
   "outputs":[
    {
     "data":{
      "text\/plain":[
       "{'args': {},\n",
       " 'data': '',\n",
       " 'files': {},\n",
       " 'form': {'key1': 'value1', 'key2': \"a value with spaces and an apostrophe '\"},\n",
       " 'headers': {'Accept': '*\/*',\n",
       "  'Accept-Encoding': 'gzip, deflate',\n",
       "  'Content-Length': '58',\n",
       "  'Content-Type': 'application\/x-www-form-urlencoded',\n",
       "  'Host': 'www.httpbin.org',\n",
       "  'User-Agent': 'python-requests\/2.26.0',\n",
       "  'X-Amzn-Trace-Id': 'Root=1-63de853d-1c4afabe2b873df14ce9794f'},\n",
       " 'json': None,\n",
       " 'origin': '34.241.35.66',\n",
       " 'url': 'https:\/\/www.httpbin.org\/post'}"
      ]
     },
     "metadata":{
      
     },
     "output_type":"display_data"
    }
   ],
   "metadata":{
    "datalore":{
     "node_id":"wxCy5zkm2hQplg29dcKifv",
     "type":"CODE",
     "hide_input_from_viewers":false,
     "hide_output_from_viewers":false
    }
   }
  },
  {
   "cell_type":"code",
   "source":[
    "resp.request.body"
   ],
   "execution_count":159,
   "outputs":[
    {
     "data":{
      "text\/plain":[
       "'key1=value1&key2=a+value+with+spaces+and+an+apostrophe+%27'"
      ]
     },
     "metadata":{
      
     },
     "output_type":"display_data"
    }
   ],
   "metadata":{
    "datalore":{
     "node_id":"2VaLwTuhbVRlCcSsgjvPXe",
     "type":"CODE",
     "hide_input_from_viewers":false,
     "hide_output_from_viewers":false
    }
   }
  },
  {
   "cell_type":"code",
   "source":[
    "resp = r.post(\"https:\/\/www.httpbin.org\/post\", \n",
    "              data=\"some text\")\n",
    "resp.json()"
   ],
   "execution_count":160,
   "outputs":[
    {
     "data":{
      "text\/plain":[
       "{'args': {},\n",
       " 'data': 'some text',\n",
       " 'files': {},\n",
       " 'form': {},\n",
       " 'headers': {'Accept': '*\/*',\n",
       "  'Accept-Encoding': 'gzip, deflate',\n",
       "  'Content-Length': '9',\n",
       "  'Host': 'www.httpbin.org',\n",
       "  'User-Agent': 'python-requests\/2.26.0',\n",
       "  'X-Amzn-Trace-Id': 'Root=1-63de8562-06ca15347cc795d173a203be'},\n",
       " 'json': None,\n",
       " 'origin': '34.241.35.66',\n",
       " 'url': 'https:\/\/www.httpbin.org\/post'}"
      ]
     },
     "metadata":{
      
     },
     "output_type":"display_data"
    }
   ],
   "metadata":{
    "datalore":{
     "node_id":"3WnVk44pMj4QxsP7wT8oLE",
     "type":"CODE",
     "hide_input_from_viewers":false,
     "hide_output_from_viewers":false
    }
   }
  },
  {
   "cell_type":"code",
   "source":[
    "resp.request.body"
   ],
   "execution_count":161,
   "outputs":[
    {
     "data":{
      "text\/plain":[
       "'some text'"
      ]
     },
     "metadata":{
      
     },
     "output_type":"display_data"
    }
   ],
   "metadata":{
    "datalore":{
     "node_id":"4JwzIwZ5S3PArTi8czwcTH",
     "type":"CODE",
     "hide_input_from_viewers":false,
     "hide_output_from_viewers":false
    }
   }
  },
  {
   "cell_type":"code",
   "source":[
    "resp = r.post(\"https:\/\/www.httpbin.org\/post\", \n",
    "              json={\n",
    "                  \"key1\": \"value1\",\n",
    "                  \"key2\": \"a value with spaces and an apostrophe '\"\n",
    "              })\n",
    "resp.json()"
   ],
   "execution_count":162,
   "outputs":[
    {
     "data":{
      "text\/plain":[
       "{'args': {},\n",
       " 'data': '{\"key1\": \"value1\", \"key2\": \"a value with spaces and an apostrophe \\'\"}',\n",
       " 'files': {},\n",
       " 'form': {},\n",
       " 'headers': {'Accept': '*\/*',\n",
       "  'Accept-Encoding': 'gzip, deflate',\n",
       "  'Content-Length': '69',\n",
       "  'Content-Type': 'application\/json',\n",
       "  'Host': 'www.httpbin.org',\n",
       "  'User-Agent': 'python-requests\/2.26.0',\n",
       "  'X-Amzn-Trace-Id': 'Root=1-63de8586-4ac994ad2cf59e2b556728a7'},\n",
       " 'json': {'key1': 'value1', 'key2': \"a value with spaces and an apostrophe '\"},\n",
       " 'origin': '34.241.35.66',\n",
       " 'url': 'https:\/\/www.httpbin.org\/post'}"
      ]
     },
     "metadata":{
      
     },
     "output_type":"display_data"
    }
   ],
   "metadata":{
    "datalore":{
     "node_id":"lRRMNxgWZlNCoFwKxsXV6A",
     "type":"CODE",
     "hide_input_from_viewers":false,
     "hide_output_from_viewers":false
    }
   }
  },
  {
   "cell_type":"code",
   "source":[
    "resp.request.body"
   ],
   "execution_count":163,
   "outputs":[
    {
     "data":{
      "text\/plain":[
       "b'{\"key1\": \"value1\", \"key2\": \"a value with spaces and an apostrophe \\'\"}'"
      ]
     },
     "metadata":{
      
     },
     "output_type":"display_data"
    }
   ],
   "metadata":{
    "datalore":{
     "node_id":"8RzbQEZMiDa1ud17I0fCeE",
     "type":"CODE",
     "hide_input_from_viewers":false,
     "hide_output_from_viewers":false
    }
   }
  },
  {
   "cell_type":"code",
   "source":[
    "# JSON -> JavaScript Object Notation"
   ],
   "execution_count":null,
   "outputs":[
    
   ],
   "metadata":{
    "datalore":{
     "node_id":"mpHBtssU0mgHyDmNY3fj2N",
     "type":"CODE",
     "hide_input_from_viewers":false,
     "hide_output_from_viewers":false
    }
   }
  },
  {
   "cell_type":"code",
   "source":[
    
   ],
   "execution_count":null,
   "outputs":[
    
   ],
   "metadata":{
    "datalore":{
     "node_id":"FdJaaU0OSzvE9DO8y9Yaqs",
     "type":"CODE",
     "hide_input_from_viewers":false,
     "hide_output_from_viewers":false
    }
   }
  },
  {
   "cell_type":"code",
   "source":[
    
   ],
   "execution_count":null,
   "outputs":[
    
   ],
   "metadata":{
    "datalore":{
     "node_id":"1sQH8LR2sFPtzqAcVOH1fv",
     "type":"CODE",
     "hide_input_from_viewers":false,
     "hide_output_from_viewers":false
    }
   }
  },
  {
   "cell_type":"code",
   "source":[
    
   ],
   "execution_count":null,
   "outputs":[
    
   ],
   "metadata":{
    "datalore":{
     "node_id":"4MIFyJNUEY1IlvoPBn5kz9",
     "type":"CODE",
     "hide_input_from_viewers":false,
     "hide_output_from_viewers":false
    }
   }
  },
  {
   "cell_type":"code",
   "source":[
    
   ],
   "execution_count":null,
   "outputs":[
    
   ],
   "metadata":{
    "datalore":{
     "node_id":"hN3YRkfDE3tIDcClN0uXIG",
     "type":"CODE",
     "hide_input_from_viewers":false,
     "hide_output_from_viewers":false
    }
   }
  }
 ],
 "metadata":{
  "kernelspec":{
   "display_name":"Python",
   "language":"python",
   "name":"python"
  },
  "datalore":{
   "version":1,
   "computation_mode":"JUPYTER",
   "package_manager":"pip",
   "base_environment":"default",
   "packages":[
    
   ]
  }
 },
 "nbformat":4,
 "nbformat_minor":4
}